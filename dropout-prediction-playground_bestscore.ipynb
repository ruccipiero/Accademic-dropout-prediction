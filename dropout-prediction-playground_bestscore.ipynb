{
 "cells": [
  {
   "cell_type": "code",
   "execution_count": 1,
   "id": "57f206bb",
   "metadata": {
    "_cell_guid": "b1076dfc-b9ad-4769-8c92-a6c4dae69d19",
    "_uuid": "8f2839f25d086af736a60e9eeb907d3b93b6e0e5",
    "execution": {
     "iopub.execute_input": "2022-11-03T16:18:12.382406Z",
     "iopub.status.busy": "2022-11-03T16:18:12.381643Z",
     "iopub.status.idle": "2022-11-03T16:18:12.394112Z",
     "shell.execute_reply": "2022-11-03T16:18:12.393343Z"
    },
    "papermill": {
     "duration": 0.034852,
     "end_time": "2022-11-03T16:18:12.396314",
     "exception": false,
     "start_time": "2022-11-03T16:18:12.361462",
     "status": "completed"
    },
    "tags": []
   },
   "outputs": [
    {
     "name": "stdout",
     "output_type": "stream",
     "text": [
      "/kaggle/input/students-dropout/sample_submission.csv\n",
      "/kaggle/input/students-dropout/validation.csv\n",
      "/kaggle/input/students-dropout/train.csv\n",
      "/kaggle/input/students-dropout/test.csv\n"
     ]
    }
   ],
   "source": [
    "# This Python 3 environment comes with many helpful analytics libraries installed\n",
    "# It is defined by the kaggle/python Docker image: https://github.com/kaggle/docker-python\n",
    "# For example, here's several helpful packages to load\n",
    "\n",
    "import numpy as np # linear algebra\n",
    "import pandas as pd # data processing, CSV file I/O (e.g. pd.read_csv)\n",
    "\n",
    "# Input data files are available in the read-only \"../input/\" directory\n",
    "# For example, running this (by clicking run or pressing Shift+Enter) will list all files under the input directory\n",
    "\n",
    "import os\n",
    "for dirname, _, filenames in os.walk('/kaggle/input'):\n",
    "    for filename in filenames:\n",
    "        print(os.path.join(dirname, filename))\n",
    "# You can write up to 20GB to the current directory (/kaggle/working/) that gets preserved as output when you create a version using \"Save & Run All\" \n",
    "# You can also write temporary files to /kaggle/temp/, but they won't be saved outside of the current session"
   ]
  },
  {
   "cell_type": "markdown",
   "id": "0d90e332",
   "metadata": {
    "papermill": {
     "duration": 0.014561,
     "end_time": "2022-11-03T16:18:12.426200",
     "exception": false,
     "start_time": "2022-11-03T16:18:12.411639",
     "status": "completed"
    },
    "tags": []
   },
   "source": [
    "### Setting up the dfs"
   ]
  },
  {
   "cell_type": "code",
   "execution_count": 2,
   "id": "956c299a",
   "metadata": {
    "execution": {
     "iopub.execute_input": "2022-11-03T16:18:12.457980Z",
     "iopub.status.busy": "2022-11-03T16:18:12.457251Z",
     "iopub.status.idle": "2022-11-03T16:18:12.524044Z",
     "shell.execute_reply": "2022-11-03T16:18:12.522908Z"
    },
    "papermill": {
     "duration": 0.085763,
     "end_time": "2022-11-03T16:18:12.526777",
     "exception": false,
     "start_time": "2022-11-03T16:18:12.441014",
     "status": "completed"
    },
    "tags": []
   },
   "outputs": [],
   "source": [
    "# to train:\n",
    "train_df = pd.read_csv('/kaggle/input/students-dropout/train.csv')\n",
    "# to test:\n",
    "validation_df = pd.read_csv('/kaggle/input/students-dropout/validation.csv')\n",
    "# to predict:\n",
    "test_df = pd.read_csv('/kaggle/input/students-dropout/test.csv')\n",
    "\n",
    "sample_df = pd.read_csv('/kaggle/input/students-dropout/sample_submission.csv')"
   ]
  },
  {
   "cell_type": "code",
   "execution_count": 3,
   "id": "b22fe725",
   "metadata": {
    "execution": {
     "iopub.execute_input": "2022-11-03T16:18:12.558197Z",
     "iopub.status.busy": "2022-11-03T16:18:12.557790Z",
     "iopub.status.idle": "2022-11-03T16:18:12.680724Z",
     "shell.execute_reply": "2022-11-03T16:18:12.679548Z"
    },
    "papermill": {
     "duration": 0.141867,
     "end_time": "2022-11-03T16:18:12.683671",
     "exception": false,
     "start_time": "2022-11-03T16:18:12.541804",
     "status": "completed"
    },
    "tags": []
   },
   "outputs": [
    {
     "data": {
      "text/html": [
       "<div>\n",
       "<style scoped>\n",
       "    .dataframe tbody tr th:only-of-type {\n",
       "        vertical-align: middle;\n",
       "    }\n",
       "\n",
       "    .dataframe tbody tr th {\n",
       "        vertical-align: top;\n",
       "    }\n",
       "\n",
       "    .dataframe thead th {\n",
       "        text-align: right;\n",
       "    }\n",
       "</style>\n",
       "<table border=\"1\" class=\"dataframe\">\n",
       "  <thead>\n",
       "    <tr style=\"text-align: right;\">\n",
       "      <th></th>\n",
       "      <th>Id</th>\n",
       "      <th>Marital status</th>\n",
       "      <th>Application mode</th>\n",
       "      <th>Application order</th>\n",
       "      <th>Course</th>\n",
       "      <th>Daytime/evening attendance</th>\n",
       "      <th>Previous qualification</th>\n",
       "      <th>Nacionality</th>\n",
       "      <th>Mother's qualification</th>\n",
       "      <th>Father's qualification</th>\n",
       "      <th>...</th>\n",
       "      <th>Curricular units 1st sem (without evaluations)</th>\n",
       "      <th>Curricular units 2nd sem (credited)</th>\n",
       "      <th>Curricular units 2nd sem (enrolled)</th>\n",
       "      <th>Curricular units 2nd sem (evaluations)</th>\n",
       "      <th>Curricular units 2nd sem (approved)</th>\n",
       "      <th>Curricular units 2nd sem (grade)</th>\n",
       "      <th>Curricular units 2nd sem (without evaluations)</th>\n",
       "      <th>Unemployment rate</th>\n",
       "      <th>Inflation rate</th>\n",
       "      <th>GDP</th>\n",
       "    </tr>\n",
       "  </thead>\n",
       "  <tbody>\n",
       "    <tr>\n",
       "      <th>count</th>\n",
       "      <td>2476.000000</td>\n",
       "      <td>2476.000000</td>\n",
       "      <td>2476.000000</td>\n",
       "      <td>2476.000000</td>\n",
       "      <td>2476.000000</td>\n",
       "      <td>2476.000000</td>\n",
       "      <td>2476.000000</td>\n",
       "      <td>2476.000000</td>\n",
       "      <td>2476.000000</td>\n",
       "      <td>2476.000000</td>\n",
       "      <td>...</td>\n",
       "      <td>2476.000000</td>\n",
       "      <td>2476.000000</td>\n",
       "      <td>2476.000000</td>\n",
       "      <td>2476.000000</td>\n",
       "      <td>2476.000000</td>\n",
       "      <td>2476.000000</td>\n",
       "      <td>2476.000000</td>\n",
       "      <td>2476.000000</td>\n",
       "      <td>2476.000000</td>\n",
       "      <td>2476.000000</td>\n",
       "    </tr>\n",
       "    <tr>\n",
       "      <th>mean</th>\n",
       "      <td>2211.848142</td>\n",
       "      <td>1.176494</td>\n",
       "      <td>6.865105</td>\n",
       "      <td>1.722940</td>\n",
       "      <td>9.912763</td>\n",
       "      <td>0.885299</td>\n",
       "      <td>2.457997</td>\n",
       "      <td>1.237480</td>\n",
       "      <td>12.121163</td>\n",
       "      <td>16.460420</td>\n",
       "      <td>...</td>\n",
       "      <td>0.125202</td>\n",
       "      <td>0.553716</td>\n",
       "      <td>6.207997</td>\n",
       "      <td>8.068255</td>\n",
       "      <td>4.466074</td>\n",
       "      <td>10.287523</td>\n",
       "      <td>0.142973</td>\n",
       "      <td>11.558522</td>\n",
       "      <td>1.227181</td>\n",
       "      <td>0.049935</td>\n",
       "    </tr>\n",
       "    <tr>\n",
       "      <th>std</th>\n",
       "      <td>1279.257993</td>\n",
       "      <td>0.600966</td>\n",
       "      <td>5.261983</td>\n",
       "      <td>1.304837</td>\n",
       "      <td>4.348326</td>\n",
       "      <td>0.318725</td>\n",
       "      <td>3.878489</td>\n",
       "      <td>1.685393</td>\n",
       "      <td>9.019925</td>\n",
       "      <td>11.009475</td>\n",
       "      <td>...</td>\n",
       "      <td>0.651707</td>\n",
       "      <td>1.914945</td>\n",
       "      <td>2.209427</td>\n",
       "      <td>3.972810</td>\n",
       "      <td>2.987121</td>\n",
       "      <td>5.168928</td>\n",
       "      <td>0.709357</td>\n",
       "      <td>2.653639</td>\n",
       "      <td>1.368978</td>\n",
       "      <td>2.270650</td>\n",
       "    </tr>\n",
       "    <tr>\n",
       "      <th>min</th>\n",
       "      <td>0.000000</td>\n",
       "      <td>1.000000</td>\n",
       "      <td>1.000000</td>\n",
       "      <td>0.000000</td>\n",
       "      <td>1.000000</td>\n",
       "      <td>0.000000</td>\n",
       "      <td>1.000000</td>\n",
       "      <td>1.000000</td>\n",
       "      <td>1.000000</td>\n",
       "      <td>1.000000</td>\n",
       "      <td>...</td>\n",
       "      <td>0.000000</td>\n",
       "      <td>0.000000</td>\n",
       "      <td>0.000000</td>\n",
       "      <td>0.000000</td>\n",
       "      <td>0.000000</td>\n",
       "      <td>0.000000</td>\n",
       "      <td>0.000000</td>\n",
       "      <td>7.600000</td>\n",
       "      <td>-0.800000</td>\n",
       "      <td>-4.060000</td>\n",
       "    </tr>\n",
       "    <tr>\n",
       "      <th>25%</th>\n",
       "      <td>1078.750000</td>\n",
       "      <td>1.000000</td>\n",
       "      <td>1.000000</td>\n",
       "      <td>1.000000</td>\n",
       "      <td>6.000000</td>\n",
       "      <td>1.000000</td>\n",
       "      <td>1.000000</td>\n",
       "      <td>1.000000</td>\n",
       "      <td>2.000000</td>\n",
       "      <td>3.000000</td>\n",
       "      <td>...</td>\n",
       "      <td>0.000000</td>\n",
       "      <td>0.000000</td>\n",
       "      <td>5.000000</td>\n",
       "      <td>6.000000</td>\n",
       "      <td>2.000000</td>\n",
       "      <td>10.833333</td>\n",
       "      <td>0.000000</td>\n",
       "      <td>9.400000</td>\n",
       "      <td>0.300000</td>\n",
       "      <td>-1.700000</td>\n",
       "    </tr>\n",
       "    <tr>\n",
       "      <th>50%</th>\n",
       "      <td>2218.000000</td>\n",
       "      <td>1.000000</td>\n",
       "      <td>8.000000</td>\n",
       "      <td>1.000000</td>\n",
       "      <td>10.000000</td>\n",
       "      <td>1.000000</td>\n",
       "      <td>1.000000</td>\n",
       "      <td>1.000000</td>\n",
       "      <td>13.000000</td>\n",
       "      <td>14.000000</td>\n",
       "      <td>...</td>\n",
       "      <td>0.000000</td>\n",
       "      <td>0.000000</td>\n",
       "      <td>6.000000</td>\n",
       "      <td>8.000000</td>\n",
       "      <td>5.000000</td>\n",
       "      <td>12.221825</td>\n",
       "      <td>0.000000</td>\n",
       "      <td>11.100000</td>\n",
       "      <td>1.400000</td>\n",
       "      <td>0.320000</td>\n",
       "    </tr>\n",
       "    <tr>\n",
       "      <th>75%</th>\n",
       "      <td>3319.250000</td>\n",
       "      <td>1.000000</td>\n",
       "      <td>12.000000</td>\n",
       "      <td>2.000000</td>\n",
       "      <td>13.000000</td>\n",
       "      <td>1.000000</td>\n",
       "      <td>1.000000</td>\n",
       "      <td>1.000000</td>\n",
       "      <td>22.000000</td>\n",
       "      <td>27.000000</td>\n",
       "      <td>...</td>\n",
       "      <td>0.000000</td>\n",
       "      <td>0.000000</td>\n",
       "      <td>7.000000</td>\n",
       "      <td>10.000000</td>\n",
       "      <td>6.000000</td>\n",
       "      <td>13.369375</td>\n",
       "      <td>0.000000</td>\n",
       "      <td>13.900000</td>\n",
       "      <td>2.600000</td>\n",
       "      <td>1.790000</td>\n",
       "    </tr>\n",
       "    <tr>\n",
       "      <th>max</th>\n",
       "      <td>4420.000000</td>\n",
       "      <td>6.000000</td>\n",
       "      <td>18.000000</td>\n",
       "      <td>6.000000</td>\n",
       "      <td>17.000000</td>\n",
       "      <td>1.000000</td>\n",
       "      <td>17.000000</td>\n",
       "      <td>20.000000</td>\n",
       "      <td>28.000000</td>\n",
       "      <td>34.000000</td>\n",
       "      <td>...</td>\n",
       "      <td>12.000000</td>\n",
       "      <td>18.000000</td>\n",
       "      <td>23.000000</td>\n",
       "      <td>27.000000</td>\n",
       "      <td>20.000000</td>\n",
       "      <td>18.571429</td>\n",
       "      <td>12.000000</td>\n",
       "      <td>16.200000</td>\n",
       "      <td>3.700000</td>\n",
       "      <td>3.510000</td>\n",
       "    </tr>\n",
       "  </tbody>\n",
       "</table>\n",
       "<p>8 rows × 35 columns</p>\n",
       "</div>"
      ],
      "text/plain": [
       "                Id  Marital status  Application mode  Application order  \\\n",
       "count  2476.000000     2476.000000       2476.000000        2476.000000   \n",
       "mean   2211.848142        1.176494          6.865105           1.722940   \n",
       "std    1279.257993        0.600966          5.261983           1.304837   \n",
       "min       0.000000        1.000000          1.000000           0.000000   \n",
       "25%    1078.750000        1.000000          1.000000           1.000000   \n",
       "50%    2218.000000        1.000000          8.000000           1.000000   \n",
       "75%    3319.250000        1.000000         12.000000           2.000000   \n",
       "max    4420.000000        6.000000         18.000000           6.000000   \n",
       "\n",
       "            Course  Daytime/evening attendance  Previous qualification  \\\n",
       "count  2476.000000                 2476.000000             2476.000000   \n",
       "mean      9.912763                    0.885299                2.457997   \n",
       "std       4.348326                    0.318725                3.878489   \n",
       "min       1.000000                    0.000000                1.000000   \n",
       "25%       6.000000                    1.000000                1.000000   \n",
       "50%      10.000000                    1.000000                1.000000   \n",
       "75%      13.000000                    1.000000                1.000000   \n",
       "max      17.000000                    1.000000               17.000000   \n",
       "\n",
       "       Nacionality  Mother's qualification  Father's qualification  ...  \\\n",
       "count  2476.000000             2476.000000             2476.000000  ...   \n",
       "mean      1.237480               12.121163               16.460420  ...   \n",
       "std       1.685393                9.019925               11.009475  ...   \n",
       "min       1.000000                1.000000                1.000000  ...   \n",
       "25%       1.000000                2.000000                3.000000  ...   \n",
       "50%       1.000000               13.000000               14.000000  ...   \n",
       "75%       1.000000               22.000000               27.000000  ...   \n",
       "max      20.000000               28.000000               34.000000  ...   \n",
       "\n",
       "       Curricular units 1st sem (without evaluations)  \\\n",
       "count                                     2476.000000   \n",
       "mean                                         0.125202   \n",
       "std                                          0.651707   \n",
       "min                                          0.000000   \n",
       "25%                                          0.000000   \n",
       "50%                                          0.000000   \n",
       "75%                                          0.000000   \n",
       "max                                         12.000000   \n",
       "\n",
       "       Curricular units 2nd sem (credited)  \\\n",
       "count                          2476.000000   \n",
       "mean                              0.553716   \n",
       "std                               1.914945   \n",
       "min                               0.000000   \n",
       "25%                               0.000000   \n",
       "50%                               0.000000   \n",
       "75%                               0.000000   \n",
       "max                              18.000000   \n",
       "\n",
       "       Curricular units 2nd sem (enrolled)  \\\n",
       "count                          2476.000000   \n",
       "mean                              6.207997   \n",
       "std                               2.209427   \n",
       "min                               0.000000   \n",
       "25%                               5.000000   \n",
       "50%                               6.000000   \n",
       "75%                               7.000000   \n",
       "max                              23.000000   \n",
       "\n",
       "       Curricular units 2nd sem (evaluations)  \\\n",
       "count                             2476.000000   \n",
       "mean                                 8.068255   \n",
       "std                                  3.972810   \n",
       "min                                  0.000000   \n",
       "25%                                  6.000000   \n",
       "50%                                  8.000000   \n",
       "75%                                 10.000000   \n",
       "max                                 27.000000   \n",
       "\n",
       "       Curricular units 2nd sem (approved)  Curricular units 2nd sem (grade)  \\\n",
       "count                          2476.000000                       2476.000000   \n",
       "mean                              4.466074                         10.287523   \n",
       "std                               2.987121                          5.168928   \n",
       "min                               0.000000                          0.000000   \n",
       "25%                               2.000000                         10.833333   \n",
       "50%                               5.000000                         12.221825   \n",
       "75%                               6.000000                         13.369375   \n",
       "max                              20.000000                         18.571429   \n",
       "\n",
       "       Curricular units 2nd sem (without evaluations)  Unemployment rate  \\\n",
       "count                                     2476.000000        2476.000000   \n",
       "mean                                         0.142973          11.558522   \n",
       "std                                          0.709357           2.653639   \n",
       "min                                          0.000000           7.600000   \n",
       "25%                                          0.000000           9.400000   \n",
       "50%                                          0.000000          11.100000   \n",
       "75%                                          0.000000          13.900000   \n",
       "max                                         12.000000          16.200000   \n",
       "\n",
       "       Inflation rate          GDP  \n",
       "count     2476.000000  2476.000000  \n",
       "mean         1.227181     0.049935  \n",
       "std          1.368978     2.270650  \n",
       "min         -0.800000    -4.060000  \n",
       "25%          0.300000    -1.700000  \n",
       "50%          1.400000     0.320000  \n",
       "75%          2.600000     1.790000  \n",
       "max          3.700000     3.510000  \n",
       "\n",
       "[8 rows x 35 columns]"
      ]
     },
     "execution_count": 3,
     "metadata": {},
     "output_type": "execute_result"
    }
   ],
   "source": [
    "train_df.describe()"
   ]
  },
  {
   "cell_type": "code",
   "execution_count": 4,
   "id": "e2f58513",
   "metadata": {
    "execution": {
     "iopub.execute_input": "2022-11-03T16:18:12.716267Z",
     "iopub.status.busy": "2022-11-03T16:18:12.715858Z",
     "iopub.status.idle": "2022-11-03T16:18:12.726198Z",
     "shell.execute_reply": "2022-11-03T16:18:12.725263Z"
    },
    "papermill": {
     "duration": 0.029205,
     "end_time": "2022-11-03T16:18:12.728411",
     "exception": false,
     "start_time": "2022-11-03T16:18:12.699206",
     "status": "completed"
    },
    "tags": []
   },
   "outputs": [
    {
     "data": {
      "text/plain": [
       "Id                                                0\n",
       "Marital status                                    0\n",
       "Application mode                                  0\n",
       "Application order                                 0\n",
       "Course                                            0\n",
       "Daytime/evening attendance                        0\n",
       "Previous qualification                            0\n",
       "Nacionality                                       0\n",
       "Mother's qualification                            0\n",
       "Father's qualification                            0\n",
       "Mother's occupation                               0\n",
       "Father's occupation                               0\n",
       "Displaced                                         0\n",
       "Educational special needs                         0\n",
       "Debtor                                            0\n",
       "Tuition fees up to date                           0\n",
       "Gender                                            0\n",
       "Scholarship holder                                0\n",
       "Age at enrollment                                 0\n",
       "International                                     0\n",
       "Curricular units 1st sem (credited)               0\n",
       "Curricular units 1st sem (enrolled)               0\n",
       "Curricular units 1st sem (evaluations)            0\n",
       "Curricular units 1st sem (approved)               0\n",
       "Curricular units 1st sem (grade)                  0\n",
       "Curricular units 1st sem (without evaluations)    0\n",
       "Curricular units 2nd sem (credited)               0\n",
       "Curricular units 2nd sem (enrolled)               0\n",
       "Curricular units 2nd sem (evaluations)            0\n",
       "Curricular units 2nd sem (approved)               0\n",
       "Curricular units 2nd sem (grade)                  0\n",
       "Curricular units 2nd sem (without evaluations)    0\n",
       "Unemployment rate                                 0\n",
       "Inflation rate                                    0\n",
       "GDP                                               0\n",
       "Category                                          0\n",
       "dtype: int64"
      ]
     },
     "execution_count": 4,
     "metadata": {},
     "output_type": "execute_result"
    }
   ],
   "source": [
    "train_df.isnull().sum()\n",
    "#train_df.dtypes"
   ]
  },
  {
   "cell_type": "code",
   "execution_count": 5,
   "id": "1b245b5e",
   "metadata": {
    "execution": {
     "iopub.execute_input": "2022-11-03T16:18:12.761478Z",
     "iopub.status.busy": "2022-11-03T16:18:12.760704Z",
     "iopub.status.idle": "2022-11-03T16:18:12.765350Z",
     "shell.execute_reply": "2022-11-03T16:18:12.764647Z"
    },
    "papermill": {
     "duration": 0.023772,
     "end_time": "2022-11-03T16:18:12.767620",
     "exception": false,
     "start_time": "2022-11-03T16:18:12.743848",
     "status": "completed"
    },
    "tags": []
   },
   "outputs": [],
   "source": [
    "### Understading the target"
   ]
  },
  {
   "cell_type": "code",
   "execution_count": 6,
   "id": "53609772",
   "metadata": {
    "execution": {
     "iopub.execute_input": "2022-11-03T16:18:12.800734Z",
     "iopub.status.busy": "2022-11-03T16:18:12.800058Z",
     "iopub.status.idle": "2022-11-03T16:18:12.807386Z",
     "shell.execute_reply": "2022-11-03T16:18:12.806443Z"
    },
    "papermill": {
     "duration": 0.02643,
     "end_time": "2022-11-03T16:18:12.809430",
     "exception": false,
     "start_time": "2022-11-03T16:18:12.783000",
     "status": "completed"
    },
    "tags": []
   },
   "outputs": [
    {
     "data": {
      "text/plain": [
       "array(['Graduate', 'Dropout', 'Enrolled'], dtype=object)"
      ]
     },
     "execution_count": 6,
     "metadata": {},
     "output_type": "execute_result"
    }
   ],
   "source": [
    "train_df['Category'].unique()"
   ]
  },
  {
   "cell_type": "markdown",
   "id": "3a1991f6",
   "metadata": {
    "papermill": {
     "duration": 0.017922,
     "end_time": "2022-11-03T16:18:12.842862",
     "exception": false,
     "start_time": "2022-11-03T16:18:12.824940",
     "status": "completed"
    },
    "tags": []
   },
   "source": [
    "### Defining the most impacting featres"
   ]
  },
  {
   "cell_type": "code",
   "execution_count": 7,
   "id": "5c05c3e2",
   "metadata": {
    "execution": {
     "iopub.execute_input": "2022-11-03T16:18:12.885014Z",
     "iopub.status.busy": "2022-11-03T16:18:12.884236Z",
     "iopub.status.idle": "2022-11-03T16:18:13.972783Z",
     "shell.execute_reply": "2022-11-03T16:18:13.971660Z"
    },
    "papermill": {
     "duration": 1.109551,
     "end_time": "2022-11-03T16:18:13.975653",
     "exception": false,
     "start_time": "2022-11-03T16:18:12.866102",
     "status": "completed"
    },
    "tags": []
   },
   "outputs": [],
   "source": [
    "import seaborn as sns\n",
    "import matplotlib.pyplot as plt\n",
    "#for feature in train_df.columns:\n",
    "#    print(f'{feature}')\n",
    "#    sns.displot(data=train_df, x=feature, hue= 'Category', kind=\"kde\")\n",
    "#    plt.show()"
   ]
  },
  {
   "cell_type": "code",
   "execution_count": 8,
   "id": "c2f6c292",
   "metadata": {
    "execution": {
     "iopub.execute_input": "2022-11-03T16:18:14.009703Z",
     "iopub.status.busy": "2022-11-03T16:18:14.009251Z",
     "iopub.status.idle": "2022-11-03T16:18:14.015318Z",
     "shell.execute_reply": "2022-11-03T16:18:14.014010Z"
    },
    "papermill": {
     "duration": 0.026036,
     "end_time": "2022-11-03T16:18:14.017581",
     "exception": false,
     "start_time": "2022-11-03T16:18:13.991545",
     "status": "completed"
    },
    "tags": []
   },
   "outputs": [],
   "source": [
    "features = ['Application mode',\n",
    "'Course',\n",
    "'Scholarship holder',\n",
    "'Curricular units 1st sem (approved)',\n",
    "'Curricular units 2nd sem (approved)',\n",
    "'Curricular units 1st sem (grade)',\n",
    "'Curricular units 2nd sem (grade)',\n",
    "\n",
    "'Debtor',\n",
    "'Curricular units 2nd sem (evaluations)',\n",
    "'Curricular units 1st sem (evaluations)',\n",
    "'Tuition fees up to date',\n",
    "'Gender',\n",
    "'Age at enrollment',\n",
    "'Curricular units 1st sem (enrolled)',\n",
    "'Curricular units 2nd sem (enrolled)',\n",
    "'Unemployment rate',\n",
    "\n",
    "'Displaced',\n",
    "\"Mother's qualification\",\n",
    "\"Father's qualification\",\n",
    "\"Father's occupation\",\n",
    "'Previous qualification',\n",
    "'Inflation rate',\n",
    "'GDP']"
   ]
  },
  {
   "cell_type": "code",
   "execution_count": 9,
   "id": "439f8141",
   "metadata": {
    "execution": {
     "iopub.execute_input": "2022-11-03T16:18:14.051931Z",
     "iopub.status.busy": "2022-11-03T16:18:14.051533Z",
     "iopub.status.idle": "2022-11-03T16:18:14.056340Z",
     "shell.execute_reply": "2022-11-03T16:18:14.055571Z"
    },
    "papermill": {
     "duration": 0.024172,
     "end_time": "2022-11-03T16:18:14.058353",
     "exception": false,
     "start_time": "2022-11-03T16:18:14.034181",
     "status": "completed"
    },
    "tags": []
   },
   "outputs": [],
   "source": [
    "numerical = [ 'Age at enrollment',\n",
    "'Unemployment rate',\n",
    "'Previous qualification',\n",
    "'Inflation rate',\n",
    "'GDP',\n",
    "'Curricular units 1st sem (approved)',\n",
    "'Curricular units 2nd sem (approved)',\n",
    "'Curricular units 1st sem (grade)',\n",
    "'Curricular units 2nd sem (grade)',\n",
    "'Curricular units 1st sem (evaluations)',\n",
    "'Curricular units 2nd sem (evaluations)',\n",
    "'Curricular units 1st sem (enrolled)',\n",
    "'Curricular units 2nd sem (enrolled)']"
   ]
  },
  {
   "cell_type": "code",
   "execution_count": 10,
   "id": "f47235ca",
   "metadata": {
    "execution": {
     "iopub.execute_input": "2022-11-03T16:18:14.092890Z",
     "iopub.status.busy": "2022-11-03T16:18:14.092270Z",
     "iopub.status.idle": "2022-11-03T16:18:14.097897Z",
     "shell.execute_reply": "2022-11-03T16:18:14.096902Z"
    },
    "papermill": {
     "duration": 0.025534,
     "end_time": "2022-11-03T16:18:14.100214",
     "exception": false,
     "start_time": "2022-11-03T16:18:14.074680",
     "status": "completed"
    },
    "tags": []
   },
   "outputs": [
    {
     "data": {
      "text/plain": [
       "'for feature in numerical:\\n    print(f\\'{feature}\\')\\n    sns.displot(data=train_df, x=feature, hue= \\'Category\\', kind=\"kde\")\\n    plt.show()'"
      ]
     },
     "execution_count": 10,
     "metadata": {},
     "output_type": "execute_result"
    }
   ],
   "source": [
    "\"\"\"for feature in numerical:\n",
    "    print(f'{feature}')\n",
    "    sns.displot(data=train_df, x=feature, hue= 'Category', kind=\"kde\")\n",
    "    plt.show()\"\"\""
   ]
  },
  {
   "cell_type": "code",
   "execution_count": 11,
   "id": "56acbed4",
   "metadata": {
    "execution": {
     "iopub.execute_input": "2022-11-03T16:18:14.134896Z",
     "iopub.status.busy": "2022-11-03T16:18:14.134432Z",
     "iopub.status.idle": "2022-11-03T16:18:14.139671Z",
     "shell.execute_reply": "2022-11-03T16:18:14.138448Z"
    },
    "papermill": {
     "duration": 0.025422,
     "end_time": "2022-11-03T16:18:14.142130",
     "exception": false,
     "start_time": "2022-11-03T16:18:14.116708",
     "status": "completed"
    },
    "tags": []
   },
   "outputs": [],
   "source": [
    "bools = ['Scholarship holder',\n",
    "'Debtor',\n",
    "'Tuition fees up to date',\n",
    "'Gender',\n",
    "'Displaced']"
   ]
  },
  {
   "cell_type": "code",
   "execution_count": 12,
   "id": "49ca9e04",
   "metadata": {
    "execution": {
     "iopub.execute_input": "2022-11-03T16:18:14.176951Z",
     "iopub.status.busy": "2022-11-03T16:18:14.175907Z",
     "iopub.status.idle": "2022-11-03T16:18:14.182790Z",
     "shell.execute_reply": "2022-11-03T16:18:14.181933Z"
    },
    "papermill": {
     "duration": 0.026,
     "end_time": "2022-11-03T16:18:14.184825",
     "exception": false,
     "start_time": "2022-11-03T16:18:14.158825",
     "status": "completed"
    },
    "tags": []
   },
   "outputs": [
    {
     "data": {
      "text/plain": [
       "\"\\nfor feature in bools:\\n    print(f'{feature}')\\n    sns.boxplot(data=train_df, x=feature,y='Curricular units 2nd sem (approved)', hue= 'Category', showfliers=False)\\n    plt.show()\\n    \""
      ]
     },
     "execution_count": 12,
     "metadata": {},
     "output_type": "execute_result"
    }
   ],
   "source": [
    "\"\"\"\n",
    "for feature in bools:\n",
    "    print(f'{feature}')\n",
    "    sns.boxplot(data=train_df, x=feature,y='Curricular units 2nd sem (approved)', hue= 'Category', showfliers=False)\n",
    "    plt.show()\n",
    "    \"\"\""
   ]
  },
  {
   "cell_type": "code",
   "execution_count": 13,
   "id": "b51561ba",
   "metadata": {
    "execution": {
     "iopub.execute_input": "2022-11-03T16:18:14.219646Z",
     "iopub.status.busy": "2022-11-03T16:18:14.218870Z",
     "iopub.status.idle": "2022-11-03T16:18:14.223852Z",
     "shell.execute_reply": "2022-11-03T16:18:14.222817Z"
    },
    "papermill": {
     "duration": 0.02479,
     "end_time": "2022-11-03T16:18:14.226029",
     "exception": false,
     "start_time": "2022-11-03T16:18:14.201239",
     "status": "completed"
    },
    "tags": []
   },
   "outputs": [],
   "source": [
    "categorical = ['Application mode',\n",
    "'Course',\n",
    "\"Mother's qualification\",\n",
    "\"Father's qualification\",\n",
    "\"Father's occupation\"]"
   ]
  },
  {
   "cell_type": "code",
   "execution_count": 14,
   "id": "b2b7da0d",
   "metadata": {
    "execution": {
     "iopub.execute_input": "2022-11-03T16:18:14.260996Z",
     "iopub.status.busy": "2022-11-03T16:18:14.260589Z",
     "iopub.status.idle": "2022-11-03T16:18:14.267748Z",
     "shell.execute_reply": "2022-11-03T16:18:14.266243Z"
    },
    "papermill": {
     "duration": 0.027934,
     "end_time": "2022-11-03T16:18:14.270278",
     "exception": false,
     "start_time": "2022-11-03T16:18:14.242344",
     "status": "completed"
    },
    "tags": []
   },
   "outputs": [
    {
     "data": {
      "text/plain": [
       "\"\\nfrom matplotlib import rcParams\\n\\nrcParams['figure.figsize'] = 11.7,8.27\\n\\nfor feature in categorical:\\n    print(f'{feature}')\\n    sns.barplot(data=train_df, y=feature,x='Curricular units 2nd sem (approved)', hue= 'Category', orient = 'h')#, showfliers=False )\\n    plt.show()\\n    \""
      ]
     },
     "execution_count": 14,
     "metadata": {},
     "output_type": "execute_result"
    }
   ],
   "source": [
    "\"\"\"\n",
    "from matplotlib import rcParams\n",
    "\n",
    "rcParams['figure.figsize'] = 11.7,8.27\n",
    "\n",
    "for feature in categorical:\n",
    "    print(f'{feature}')\n",
    "    sns.barplot(data=train_df, y=feature,x='Curricular units 2nd sem (approved)', hue= 'Category', orient = 'h')#, showfliers=False )\n",
    "    plt.show()\n",
    "    \"\"\""
   ]
  },
  {
   "cell_type": "markdown",
   "id": "d1ad9522",
   "metadata": {
    "papermill": {
     "duration": 0.017412,
     "end_time": "2022-11-03T16:18:14.304667",
     "exception": false,
     "start_time": "2022-11-03T16:18:14.287255",
     "status": "completed"
    },
    "tags": []
   },
   "source": [
    "### Setting up y"
   ]
  },
  {
   "cell_type": "code",
   "execution_count": 15,
   "id": "990128f1",
   "metadata": {
    "execution": {
     "iopub.execute_input": "2022-11-03T16:18:14.341197Z",
     "iopub.status.busy": "2022-11-03T16:18:14.339952Z",
     "iopub.status.idle": "2022-11-03T16:18:14.345932Z",
     "shell.execute_reply": "2022-11-03T16:18:14.344826Z"
    },
    "papermill": {
     "duration": 0.02696,
     "end_time": "2022-11-03T16:18:14.348591",
     "exception": false,
     "start_time": "2022-11-03T16:18:14.321631",
     "status": "completed"
    },
    "tags": []
   },
   "outputs": [],
   "source": [
    "y_train = train_df['Category']\n",
    "y_test = validation_df['Category']"
   ]
  },
  {
   "cell_type": "markdown",
   "id": "c02c0dac",
   "metadata": {
    "papermill": {
     "duration": 0.016592,
     "end_time": "2022-11-03T16:18:14.382382",
     "exception": false,
     "start_time": "2022-11-03T16:18:14.365790",
     "status": "completed"
    },
    "tags": []
   },
   "source": [
    "### Setting X with all the features"
   ]
  },
  {
   "cell_type": "code",
   "execution_count": 16,
   "id": "a911073d",
   "metadata": {
    "execution": {
     "iopub.execute_input": "2022-11-03T16:18:14.417995Z",
     "iopub.status.busy": "2022-11-03T16:18:14.416962Z",
     "iopub.status.idle": "2022-11-03T16:18:14.570884Z",
     "shell.execute_reply": "2022-11-03T16:18:14.570048Z"
    },
    "papermill": {
     "duration": 0.17444,
     "end_time": "2022-11-03T16:18:14.573488",
     "exception": false,
     "start_time": "2022-11-03T16:18:14.399048",
     "status": "completed"
    },
    "tags": []
   },
   "outputs": [],
   "source": [
    "from sklearn.preprocessing import StandardScaler\n",
    "\n",
    "#X_test = validation_df[features]\n",
    "X_train_all = train_df.drop(columns=['Category'])\n",
    "X_test_all = validation_df.drop(columns=['Category'])\n",
    "\n",
    "sc = StandardScaler()\n",
    "X_train_all = sc.fit_transform(X_train_all)\n",
    "X_test_all = sc.transform(X_test_all)"
   ]
  },
  {
   "cell_type": "markdown",
   "id": "7122e2b2",
   "metadata": {
    "papermill": {
     "duration": 0.016562,
     "end_time": "2022-11-03T16:18:14.607704",
     "exception": false,
     "start_time": "2022-11-03T16:18:14.591142",
     "status": "completed"
    },
    "tags": []
   },
   "source": [
    "### Setting X with relevant features"
   ]
  },
  {
   "cell_type": "code",
   "execution_count": 17,
   "id": "1c8d860f",
   "metadata": {
    "execution": {
     "iopub.execute_input": "2022-11-03T16:18:14.644389Z",
     "iopub.status.busy": "2022-11-03T16:18:14.643245Z",
     "iopub.status.idle": "2022-11-03T16:18:14.658970Z",
     "shell.execute_reply": "2022-11-03T16:18:14.657875Z"
    },
    "papermill": {
     "duration": 0.037125,
     "end_time": "2022-11-03T16:18:14.661991",
     "exception": false,
     "start_time": "2022-11-03T16:18:14.624866",
     "status": "completed"
    },
    "tags": []
   },
   "outputs": [],
   "source": [
    "X_train =  train_df[features]\n",
    "X_test = validation_df[features]\n",
    "sc = StandardScaler()\n",
    "X_train = sc.fit_transform(X_train)\n",
    "X_test = sc.transform(X_test)"
   ]
  },
  {
   "cell_type": "markdown",
   "id": "298890f8",
   "metadata": {
    "papermill": {
     "duration": 0.018171,
     "end_time": "2022-11-03T16:18:14.697997",
     "exception": false,
     "start_time": "2022-11-03T16:18:14.679826",
     "status": "completed"
    },
    "tags": []
   },
   "source": [
    "### Setting a df without too related features"
   ]
  },
  {
   "cell_type": "code",
   "execution_count": 18,
   "id": "790d35d1",
   "metadata": {
    "execution": {
     "iopub.execute_input": "2022-11-03T16:18:14.734622Z",
     "iopub.status.busy": "2022-11-03T16:18:14.733276Z",
     "iopub.status.idle": "2022-11-03T16:18:14.749808Z",
     "shell.execute_reply": "2022-11-03T16:18:14.748508Z"
    },
    "papermill": {
     "duration": 0.036992,
     "end_time": "2022-11-03T16:18:14.752083",
     "exception": false,
     "start_time": "2022-11-03T16:18:14.715091",
     "status": "completed"
    },
    "tags": []
   },
   "outputs": [
    {
     "name": "stdout",
     "output_type": "stream",
     "text": [
      "(3804, 36) (3804, 32)\n"
     ]
    }
   ],
   "source": [
    "df = pd.concat([train_df, validation_df])\n",
    "\n",
    "clean_df = df.copy()\n",
    "bad_features = ['International','Curricular units 1st sem (enrolled)','Curricular units 1st sem (credited)' ,'Curricular units 1st sem (approved)'  ]\n",
    "clean_df = clean_df.drop(columns= bad_features)\n",
    "print (df.shape, clean_df.shape)"
   ]
  },
  {
   "cell_type": "code",
   "execution_count": 19,
   "id": "44b4d41b",
   "metadata": {
    "execution": {
     "iopub.execute_input": "2022-11-03T16:18:14.786602Z",
     "iopub.status.busy": "2022-11-03T16:18:14.785932Z",
     "iopub.status.idle": "2022-11-03T16:18:14.793689Z",
     "shell.execute_reply": "2022-11-03T16:18:14.792397Z"
    },
    "papermill": {
     "duration": 0.027753,
     "end_time": "2022-11-03T16:18:14.796174",
     "exception": false,
     "start_time": "2022-11-03T16:18:14.768421",
     "status": "completed"
    },
    "tags": []
   },
   "outputs": [],
   "source": [
    "clean_train_df = train_df.drop(columns= bad_features)\n",
    "\n",
    "clean_validation_df = validation_df.drop(columns= bad_features)\n"
   ]
  },
  {
   "cell_type": "markdown",
   "id": "ccb97c57",
   "metadata": {
    "papermill": {
     "duration": 0.016223,
     "end_time": "2022-11-03T16:18:14.829534",
     "exception": false,
     "start_time": "2022-11-03T16:18:14.813311",
     "status": "completed"
    },
    "tags": []
   },
   "source": [
    "## Implementation of relevant machine learning models.\n"
   ]
  },
  {
   "cell_type": "code",
   "execution_count": 20,
   "id": "64593be4",
   "metadata": {
    "execution": {
     "iopub.execute_input": "2022-11-03T16:18:14.874226Z",
     "iopub.status.busy": "2022-11-03T16:18:14.873380Z",
     "iopub.status.idle": "2022-11-03T16:18:15.327664Z",
     "shell.execute_reply": "2022-11-03T16:18:15.326555Z"
    },
    "papermill": {
     "duration": 0.478347,
     "end_time": "2022-11-03T16:18:15.330314",
     "exception": false,
     "start_time": "2022-11-03T16:18:14.851967",
     "status": "completed"
    },
    "tags": []
   },
   "outputs": [],
   "source": [
    "from numpy import mean\n",
    "from numpy import std\n",
    "from sklearn.model_selection import RepeatedStratifiedKFold\n",
    "from sklearn.model_selection import cross_val_score\n",
    "from sklearn.svm import SVC\n",
    "from sklearn.metrics import accuracy_score\n",
    "from sklearn.model_selection import GridSearchCV\n",
    "from sklearn.ensemble import GradientBoostingClassifier\n",
    "from xgboost import XGBClassifier\n",
    "from xgboost import XGBRFClassifier\n",
    "from sklearn.ensemble import RandomForestClassifier\n",
    "from sklearn.datasets import make_classification\n"
   ]
  },
  {
   "cell_type": "code",
   "execution_count": 21,
   "id": "91b671f0",
   "metadata": {
    "execution": {
     "iopub.execute_input": "2022-11-03T16:18:15.366002Z",
     "iopub.status.busy": "2022-11-03T16:18:15.365211Z",
     "iopub.status.idle": "2022-11-03T16:18:15.372824Z",
     "shell.execute_reply": "2022-11-03T16:18:15.371751Z"
    },
    "papermill": {
     "duration": 0.027922,
     "end_time": "2022-11-03T16:18:15.374966",
     "exception": false,
     "start_time": "2022-11-03T16:18:15.347044",
     "status": "completed"
    },
    "tags": []
   },
   "outputs": [
    {
     "data": {
      "text/plain": [
       "\"\\ngbc = GradientBoostingClassifier()\\nxgbc = XGBClassifier()\\nXGBRFC = XGBRFClassifier()\\nrfc = RandomForestClassifier()\\n# setting the cross validation\\ncv = RepeatedStratifiedKFold(n_splits=10, n_repeats=3, random_state=1)\\n# evaluate the model 1\\nn_scores = cross_val_score(gbc, X, y, scoring='accuracy', cv=cv, n_jobs=-1)\\n# evaluate the model 2\\nn_scores1 = cross_val_score(xgbc, X, y, scoring='accuracy', cv=cv, n_jobs=-1)\\n# evaluate the model 3\\nn_scores2 = cross_val_score(XGBRFC, X, y, scoring='accuracy', cv=cv, n_jobs=-1)\\n# evaluate the model 4\\nn_scores3 = cross_val_score(rfc, X, y, scoring='accuracy', cv=cv, n_jobs=-1)\\n\\n# report performance of the models\\nprint('gbc','Accuracy: %.3f (%.3f)' % (mean(n_scores), std(n_scores)))\\nprint('xgbc','Accuracy: %.3f (%.3f)' % (mean(n_scores1), std(n_scores1)))\\nprint('xgbrf','Accuracy: %.3f (%.3f)' % (mean(n_scores2), std(n_scores2)))\\nprint('rfc','Accuracy: %.3f (%.3f)' % (mean(n_scores3), std(n_scores3)))\\n\\n\\n\""
      ]
     },
     "execution_count": 21,
     "metadata": {},
     "output_type": "execute_result"
    }
   ],
   "source": [
    "\"\"\"\n",
    "gbc = GradientBoostingClassifier()\n",
    "xgbc = XGBClassifier()\n",
    "XGBRFC = XGBRFClassifier()\n",
    "rfc = RandomForestClassifier()\n",
    "# setting the cross validation\n",
    "cv = RepeatedStratifiedKFold(n_splits=10, n_repeats=3, random_state=1)\n",
    "# evaluate the model 1\n",
    "n_scores = cross_val_score(gbc, X, y, scoring='accuracy', cv=cv, n_jobs=-1)\n",
    "# evaluate the model 2\n",
    "n_scores1 = cross_val_score(xgbc, X, y, scoring='accuracy', cv=cv, n_jobs=-1)\n",
    "# evaluate the model 3\n",
    "n_scores2 = cross_val_score(XGBRFC, X, y, scoring='accuracy', cv=cv, n_jobs=-1)\n",
    "# evaluate the model 4\n",
    "n_scores3 = cross_val_score(rfc, X, y, scoring='accuracy', cv=cv, n_jobs=-1)\n",
    "\n",
    "# report performance of the models\n",
    "print('gbc','Accuracy: %.3f (%.3f)' % (mean(n_scores), std(n_scores)))\n",
    "print('xgbc','Accuracy: %.3f (%.3f)' % (mean(n_scores1), std(n_scores1)))\n",
    "print('xgbrf','Accuracy: %.3f (%.3f)' % (mean(n_scores2), std(n_scores2)))\n",
    "print('rfc','Accuracy: %.3f (%.3f)' % (mean(n_scores3), std(n_scores3)))\n",
    "\n",
    "\n",
    "\"\"\""
   ]
  },
  {
   "cell_type": "markdown",
   "id": "eb79d929",
   "metadata": {
    "papermill": {
     "duration": 0.015657,
     "end_time": "2022-11-03T16:18:15.406766",
     "exception": false,
     "start_time": "2022-11-03T16:18:15.391109",
     "status": "completed"
    },
    "tags": []
   },
   "source": [
    "gbc Accuracy: 0.772 (0.014)\n",
    "\n",
    "xgbc Accuracy: 0.772 (0.021)\n",
    "\n",
    "xgbrf Accuracy: 0.762 (0.015)\n",
    "\n",
    "rfc Accuracy: 0.771 (0.015)"
   ]
  },
  {
   "cell_type": "markdown",
   "id": "5046c6c2",
   "metadata": {
    "papermill": {
     "duration": 0.016086,
     "end_time": "2022-11-03T16:18:15.438985",
     "exception": false,
     "start_time": "2022-11-03T16:18:15.422899",
     "status": "completed"
    },
    "tags": []
   },
   "source": [
    "### Random forest"
   ]
  },
  {
   "cell_type": "code",
   "execution_count": 22,
   "id": "add5a2b0",
   "metadata": {
    "execution": {
     "iopub.execute_input": "2022-11-03T16:18:15.474044Z",
     "iopub.status.busy": "2022-11-03T16:18:15.473334Z",
     "iopub.status.idle": "2022-11-03T16:18:16.026699Z",
     "shell.execute_reply": "2022-11-03T16:18:16.025624Z"
    },
    "papermill": {
     "duration": 0.574009,
     "end_time": "2022-11-03T16:18:16.029488",
     "exception": false,
     "start_time": "2022-11-03T16:18:15.455479",
     "status": "completed"
    },
    "tags": []
   },
   "outputs": [
    {
     "data": {
      "text/plain": [
       "0.7582831325301205"
      ]
     },
     "execution_count": 22,
     "metadata": {},
     "output_type": "execute_result"
    }
   ],
   "source": [
    "rfc = RandomForestClassifier()\n",
    "#clf.fit(X, y)\n",
    "#RandomForestClassifier(...)\n",
    "#print(clf.predict([[0, 0, 0, 0]]))\n",
    "rfc.fit(X_train_all, y_train)\n",
    "rfc.score(X_test_all, y_test)"
   ]
  },
  {
   "cell_type": "markdown",
   "id": "2ba6d611",
   "metadata": {
    "papermill": {
     "duration": 0.017504,
     "end_time": "2022-11-03T16:18:16.065275",
     "exception": false,
     "start_time": "2022-11-03T16:18:16.047771",
     "status": "completed"
    },
    "tags": []
   },
   "source": [
    "### Predicting with the GradientBoostingClassifier"
   ]
  },
  {
   "cell_type": "code",
   "execution_count": 23,
   "id": "ec34600b",
   "metadata": {
    "execution": {
     "iopub.execute_input": "2022-11-03T16:18:16.100580Z",
     "iopub.status.busy": "2022-11-03T16:18:16.100140Z",
     "iopub.status.idle": "2022-11-03T16:18:18.268347Z",
     "shell.execute_reply": "2022-11-03T16:18:18.267117Z"
    },
    "papermill": {
     "duration": 2.188486,
     "end_time": "2022-11-03T16:18:18.270751",
     "exception": false,
     "start_time": "2022-11-03T16:18:16.082265",
     "status": "completed"
    },
    "tags": []
   },
   "outputs": [
    {
     "data": {
      "text/plain": [
       "{'ccp_alpha': 0.0,\n",
       " 'criterion': 'friedman_mse',\n",
       " 'init': None,\n",
       " 'learning_rate': 0.1,\n",
       " 'loss': 'deviance',\n",
       " 'max_depth': 3,\n",
       " 'max_features': None,\n",
       " 'max_leaf_nodes': None,\n",
       " 'min_impurity_decrease': 0.0,\n",
       " 'min_samples_leaf': 1,\n",
       " 'min_samples_split': 2,\n",
       " 'min_weight_fraction_leaf': 0.0,\n",
       " 'n_estimators': 100,\n",
       " 'n_iter_no_change': None,\n",
       " 'random_state': None,\n",
       " 'subsample': 1.0,\n",
       " 'tol': 0.0001,\n",
       " 'validation_fraction': 0.1,\n",
       " 'verbose': 0,\n",
       " 'warm_start': False}"
      ]
     },
     "execution_count": 23,
     "metadata": {},
     "output_type": "execute_result"
    }
   ],
   "source": [
    "gbc = GradientBoostingClassifier().fit(X_train_all, y_train)\n",
    "gbc.score(X_test_all, y_test) #0.766566265060241\n",
    "gbc.get_params()"
   ]
  },
  {
   "cell_type": "markdown",
   "id": "529d84b4",
   "metadata": {
    "papermill": {
     "duration": 0.016489,
     "end_time": "2022-11-03T16:18:18.304577",
     "exception": false,
     "start_time": "2022-11-03T16:18:18.288088",
     "status": "completed"
    },
    "tags": []
   },
   "source": [
    "### Tuning the GradientBoostingClassifier"
   ]
  },
  {
   "cell_type": "code",
   "execution_count": 24,
   "id": "6299faaf",
   "metadata": {
    "execution": {
     "iopub.execute_input": "2022-11-03T16:18:18.340161Z",
     "iopub.status.busy": "2022-11-03T16:18:18.339774Z",
     "iopub.status.idle": "2022-11-03T16:18:18.347350Z",
     "shell.execute_reply": "2022-11-03T16:18:18.346230Z"
    },
    "papermill": {
     "duration": 0.028271,
     "end_time": "2022-11-03T16:18:18.349689",
     "exception": false,
     "start_time": "2022-11-03T16:18:18.321418",
     "status": "completed"
    },
    "tags": []
   },
   "outputs": [
    {
     "data": {
      "text/plain": [
       "\"\\nbase_params = {'ccp_alpha': [0.0],\\n 'criterion':[ 'friedman_mse'],\\n 'init': [None],\\n 'learning_rate': [0.1,1],\\n 'loss': ['deviance'],\\n 'max_depth': [3,5],\\n 'max_features': [None, 0.8],\\n 'max_leaf_nodes': [None], #{'learning_rate': 1, 'max_depth': 5, 'max_features': 0.8, 'n_estimators': 120, 'subsample': 1}\\n 'min_impurity_decrease':[ 0.0],\\n 'min_samples_leaf': [1],\\n 'min_samples_split': [2],\\n 'min_weight_fraction_leaf':[ 0.0],\\n 'n_estimators': [100,120],\\n 'n_iter_no_change': [None],\\n 'random_state': [None],\\n 'subsample': [1.0],\\n 'tol': [0.0001],\\n 'validation_fraction': [0.1],\\n 'verbose': [0],\\n 'warm_start': [False]}\\n \\nparams_gbc = {\\n    'subsample': [1,0.5],\\n    'n_estimators': [120,150, 170],\\n    'learning_rate':[1,1.1],\\n    'max_depth': [5, 3],\\n    'max_features': [0.4, 0.8]\\n    #{'learning_rate': 1, 'max_depth': 5, 'max_features': 0.8, 'n_estimators': 120, 'subsample': 1}\\n    #{'learning_rate': 1, 'n_estimators': 150, 'subsample': 1}\\n    \\n\\n}\\ngrid_gbc = GridSearchCV(estimator = GradientBoostingClassifier(), \\n                         param_grid=base_params, scoring ='accuracy', \\n                         cv=10, n_jobs=-1 )\\ngrid_gbc = grid_gbc.fit(X_train, y_train)\\nprint(grid_gbc.best_params_)\\nprint(grid_gbc.best_score_)\\n\""
      ]
     },
     "execution_count": 24,
     "metadata": {},
     "output_type": "execute_result"
    }
   ],
   "source": [
    "\"\"\"\n",
    "base_params = {'ccp_alpha': [0.0],\n",
    " 'criterion':[ 'friedman_mse'],\n",
    " 'init': [None],\n",
    " 'learning_rate': [0.1,1],\n",
    " 'loss': ['deviance'],\n",
    " 'max_depth': [3,5],\n",
    " 'max_features': [None, 0.8],\n",
    " 'max_leaf_nodes': [None], #{'learning_rate': 1, 'max_depth': 5, 'max_features': 0.8, 'n_estimators': 120, 'subsample': 1}\n",
    " 'min_impurity_decrease':[ 0.0],\n",
    " 'min_samples_leaf': [1],\n",
    " 'min_samples_split': [2],\n",
    " 'min_weight_fraction_leaf':[ 0.0],\n",
    " 'n_estimators': [100,120],\n",
    " 'n_iter_no_change': [None],\n",
    " 'random_state': [None],\n",
    " 'subsample': [1.0],\n",
    " 'tol': [0.0001],\n",
    " 'validation_fraction': [0.1],\n",
    " 'verbose': [0],\n",
    " 'warm_start': [False]}\n",
    " \n",
    "params_gbc = {\n",
    "    'subsample': [1,0.5],\n",
    "    'n_estimators': [120,150, 170],\n",
    "    'learning_rate':[1,1.1],\n",
    "    'max_depth': [5, 3],\n",
    "    'max_features': [0.4, 0.8]\n",
    "    #{'learning_rate': 1, 'max_depth': 5, 'max_features': 0.8, 'n_estimators': 120, 'subsample': 1}\n",
    "    #{'learning_rate': 1, 'n_estimators': 150, 'subsample': 1}\n",
    "    \n",
    "\n",
    "}\n",
    "grid_gbc = GridSearchCV(estimator = GradientBoostingClassifier(), \n",
    "                         param_grid=base_params, scoring ='accuracy', \n",
    "                         cv=10, n_jobs=-1 )\n",
    "grid_gbc = grid_gbc.fit(X_train, y_train)\n",
    "print(grid_gbc.best_params_)\n",
    "print(grid_gbc.best_score_)\n",
    "\"\"\""
   ]
  },
  {
   "cell_type": "code",
   "execution_count": 25,
   "id": "e389963e",
   "metadata": {
    "execution": {
     "iopub.execute_input": "2022-11-03T16:18:18.384279Z",
     "iopub.status.busy": "2022-11-03T16:18:18.383890Z",
     "iopub.status.idle": "2022-11-03T16:18:21.831750Z",
     "shell.execute_reply": "2022-11-03T16:18:21.830400Z"
    },
    "papermill": {
     "duration": 3.468062,
     "end_time": "2022-11-03T16:18:21.834237",
     "exception": false,
     "start_time": "2022-11-03T16:18:18.366175",
     "status": "completed"
    },
    "tags": []
   },
   "outputs": [
    {
     "data": {
      "text/plain": [
       "0.7560240963855421"
      ]
     },
     "execution_count": 25,
     "metadata": {},
     "output_type": "execute_result"
    }
   ],
   "source": [
    "gbc = GradientBoostingClassifier(n_estimators=120, learning_rate=0.1,max_depth= 5,\n",
    "    max_features= 0.8, subsample= 1, random_state=0).fit(X_train_all, y_train)\n",
    "#{'learning_rate': 1, 'max_depth': 5, 'max_features': 0.8, 'n_estimators': 120, 'subsample': 1}\n",
    "# 'ccp_alpha': 0.0, 'criterion': 'friedman_mse', 'init': None, 'learning_rate': 0.1, 'loss': 'deviance', \n",
    "# 'max_depth': 5, 'max_features': 0.8, 'max_leaf_nodes': None, 'min_impurity_decrease': 0.0, \n",
    "# 'min_samples_leaf': 1, 'min_samples_split': 2, 'min_weight_fraction_leaf': 0.0, 'n_estimators': 120, \n",
    "# 'n_iter_no_change': None, 'random_state': None, 'subsample': 1.0, 'tol': 0.0001, 'validation_fraction': 0.1, \n",
    "# 'verbose': 0, 'warm_start': False\n",
    "gbc.score(X_test_all, y_test)\n",
    "#0.749\n",
    "#0.7469879518072289"
   ]
  },
  {
   "cell_type": "code",
   "execution_count": 26,
   "id": "c2059f69",
   "metadata": {
    "execution": {
     "iopub.execute_input": "2022-11-03T16:18:21.869906Z",
     "iopub.status.busy": "2022-11-03T16:18:21.869518Z",
     "iopub.status.idle": "2022-11-03T16:18:26.822811Z",
     "shell.execute_reply": "2022-11-03T16:18:26.821474Z"
    },
    "papermill": {
     "duration": 4.974131,
     "end_time": "2022-11-03T16:18:26.825623",
     "exception": false,
     "start_time": "2022-11-03T16:18:21.851492",
     "status": "completed"
    },
    "tags": []
   },
   "outputs": [],
   "source": [
    "gbc = GradientBoostingClassifier(n_estimators=120, learning_rate=0.1,max_depth= 5,\n",
    "    max_features= 0.8, subsample= 1, random_state=0)\n",
    "X_df = df.drop(columns=['Category'])\n",
    "y_df = df['Category'].copy()\n",
    "y_df_num = y_df.replace({'Graduate': 2, 'Enrolled': 1, 'Dropout': 0})\n",
    "\n",
    "final = gbc.fit(X_df, y_df_num)"
   ]
  },
  {
   "cell_type": "code",
   "execution_count": 27,
   "id": "3f4c73c6",
   "metadata": {
    "execution": {
     "iopub.execute_input": "2022-11-03T16:18:26.860918Z",
     "iopub.status.busy": "2022-11-03T16:18:26.860186Z",
     "iopub.status.idle": "2022-11-03T16:18:26.887863Z",
     "shell.execute_reply": "2022-11-03T16:18:26.886846Z"
    },
    "papermill": {
     "duration": 0.047722,
     "end_time": "2022-11-03T16:18:26.890061",
     "exception": false,
     "start_time": "2022-11-03T16:18:26.842339",
     "status": "completed"
    },
    "tags": []
   },
   "outputs": [
    {
     "data": {
      "text/html": [
       "<div>\n",
       "<style scoped>\n",
       "    .dataframe tbody tr th:only-of-type {\n",
       "        vertical-align: middle;\n",
       "    }\n",
       "\n",
       "    .dataframe tbody tr th {\n",
       "        vertical-align: top;\n",
       "    }\n",
       "\n",
       "    .dataframe thead th {\n",
       "        text-align: right;\n",
       "    }\n",
       "</style>\n",
       "<table border=\"1\" class=\"dataframe\">\n",
       "  <thead>\n",
       "    <tr style=\"text-align: right;\">\n",
       "      <th></th>\n",
       "      <th>Id</th>\n",
       "      <th>Category</th>\n",
       "    </tr>\n",
       "  </thead>\n",
       "  <tbody>\n",
       "    <tr>\n",
       "      <th>332</th>\n",
       "      <td>1</td>\n",
       "      <td>0</td>\n",
       "    </tr>\n",
       "    <tr>\n",
       "      <th>50</th>\n",
       "      <td>2</td>\n",
       "      <td>0</td>\n",
       "    </tr>\n",
       "    <tr>\n",
       "      <th>224</th>\n",
       "      <td>9</td>\n",
       "      <td>1</td>\n",
       "    </tr>\n",
       "    <tr>\n",
       "      <th>605</th>\n",
       "      <td>18</td>\n",
       "      <td>2</td>\n",
       "    </tr>\n",
       "    <tr>\n",
       "      <th>57</th>\n",
       "      <td>22</td>\n",
       "      <td>2</td>\n",
       "    </tr>\n",
       "    <tr>\n",
       "      <th>...</th>\n",
       "      <td>...</td>\n",
       "      <td>...</td>\n",
       "    </tr>\n",
       "    <tr>\n",
       "      <th>399</th>\n",
       "      <td>4375</td>\n",
       "      <td>0</td>\n",
       "    </tr>\n",
       "    <tr>\n",
       "      <th>304</th>\n",
       "      <td>4398</td>\n",
       "      <td>2</td>\n",
       "    </tr>\n",
       "    <tr>\n",
       "      <th>157</th>\n",
       "      <td>4404</td>\n",
       "      <td>0</td>\n",
       "    </tr>\n",
       "    <tr>\n",
       "      <th>267</th>\n",
       "      <td>4406</td>\n",
       "      <td>1</td>\n",
       "    </tr>\n",
       "    <tr>\n",
       "      <th>26</th>\n",
       "      <td>4421</td>\n",
       "      <td>0</td>\n",
       "    </tr>\n",
       "  </tbody>\n",
       "</table>\n",
       "<p>620 rows × 2 columns</p>\n",
       "</div>"
      ],
      "text/plain": [
       "       Id  Category\n",
       "332     1         0\n",
       "50      2         0\n",
       "224     9         1\n",
       "605    18         2\n",
       "57     22         2\n",
       "..    ...       ...\n",
       "399  4375         0\n",
       "304  4398         2\n",
       "157  4404         0\n",
       "267  4406         1\n",
       "26   4421         0\n",
       "\n",
       "[620 rows x 2 columns]"
      ]
     },
     "execution_count": 27,
     "metadata": {},
     "output_type": "execute_result"
    }
   ],
   "source": [
    "#X_target = test_df[features]\n",
    "y_target = final.predict(test_df)\n",
    "\n",
    "#y_target = y_train.replace({ 2:'Graduate', 1 : 'Enrolled', 0 : 'Dropout'}, inplace = True)\n",
    "#print(len(y_target))\n",
    "\n",
    "#xpected 'Id' column to be of type 'Int32', but was 'String'\n",
    "#ERROR: Unable to convert 'Id' column row 51 value 'Graduate' to expected type 'Int32'\n",
    "#ERROR: Unable to convert 'Id' column row 333 value 'Enrolled' to expected type 'Int32'\n",
    "target_df2 = pd.DataFrame(test_df['Id'])\n",
    "target_df2['Id']=target_df2['Id'].astype(int)\n",
    "Category = y_target.tolist()\n",
    "\n",
    "target_df2['Category'] = Category\n",
    "target_df2.sort_values(by=['Id'])"
   ]
  },
  {
   "cell_type": "code",
   "execution_count": 28,
   "id": "4aa5e8b0",
   "metadata": {
    "execution": {
     "iopub.execute_input": "2022-11-03T16:18:26.925953Z",
     "iopub.status.busy": "2022-11-03T16:18:26.925461Z",
     "iopub.status.idle": "2022-11-03T16:18:26.946748Z",
     "shell.execute_reply": "2022-11-03T16:18:26.945644Z"
    },
    "papermill": {
     "duration": 0.042281,
     "end_time": "2022-11-03T16:18:26.949352",
     "exception": false,
     "start_time": "2022-11-03T16:18:26.907071",
     "status": "completed"
    },
    "tags": []
   },
   "outputs": [
    {
     "data": {
      "text/html": [
       "<div>\n",
       "<style scoped>\n",
       "    .dataframe tbody tr th:only-of-type {\n",
       "        vertical-align: middle;\n",
       "    }\n",
       "\n",
       "    .dataframe tbody tr th {\n",
       "        vertical-align: top;\n",
       "    }\n",
       "\n",
       "    .dataframe thead th {\n",
       "        text-align: right;\n",
       "    }\n",
       "</style>\n",
       "<table border=\"1\" class=\"dataframe\">\n",
       "  <thead>\n",
       "    <tr style=\"text-align: right;\">\n",
       "      <th></th>\n",
       "      <th>Id</th>\n",
       "      <th>Category</th>\n",
       "    </tr>\n",
       "  </thead>\n",
       "  <tbody>\n",
       "    <tr>\n",
       "      <th>332</th>\n",
       "      <td>1</td>\n",
       "      <td>Dropout</td>\n",
       "    </tr>\n",
       "    <tr>\n",
       "      <th>50</th>\n",
       "      <td>2</td>\n",
       "      <td>Dropout</td>\n",
       "    </tr>\n",
       "    <tr>\n",
       "      <th>224</th>\n",
       "      <td>9</td>\n",
       "      <td>Enrolled</td>\n",
       "    </tr>\n",
       "    <tr>\n",
       "      <th>605</th>\n",
       "      <td>18</td>\n",
       "      <td>Graduate</td>\n",
       "    </tr>\n",
       "    <tr>\n",
       "      <th>57</th>\n",
       "      <td>22</td>\n",
       "      <td>Graduate</td>\n",
       "    </tr>\n",
       "    <tr>\n",
       "      <th>...</th>\n",
       "      <td>...</td>\n",
       "      <td>...</td>\n",
       "    </tr>\n",
       "    <tr>\n",
       "      <th>399</th>\n",
       "      <td>4375</td>\n",
       "      <td>Dropout</td>\n",
       "    </tr>\n",
       "    <tr>\n",
       "      <th>304</th>\n",
       "      <td>4398</td>\n",
       "      <td>Graduate</td>\n",
       "    </tr>\n",
       "    <tr>\n",
       "      <th>157</th>\n",
       "      <td>4404</td>\n",
       "      <td>Dropout</td>\n",
       "    </tr>\n",
       "    <tr>\n",
       "      <th>267</th>\n",
       "      <td>4406</td>\n",
       "      <td>Enrolled</td>\n",
       "    </tr>\n",
       "    <tr>\n",
       "      <th>26</th>\n",
       "      <td>4421</td>\n",
       "      <td>Dropout</td>\n",
       "    </tr>\n",
       "  </tbody>\n",
       "</table>\n",
       "<p>620 rows × 2 columns</p>\n",
       "</div>"
      ],
      "text/plain": [
       "       Id  Category\n",
       "332     1   Dropout\n",
       "50      2   Dropout\n",
       "224     9  Enrolled\n",
       "605    18  Graduate\n",
       "57     22  Graduate\n",
       "..    ...       ...\n",
       "399  4375   Dropout\n",
       "304  4398  Graduate\n",
       "157  4404   Dropout\n",
       "267  4406  Enrolled\n",
       "26   4421   Dropout\n",
       "\n",
       "[620 rows x 2 columns]"
      ]
     },
     "execution_count": 28,
     "metadata": {},
     "output_type": "execute_result"
    }
   ],
   "source": [
    "target_df2['Category'].replace({ 2:'Graduate', 1 : 'Enrolled', 0 : 'Dropout'}, inplace = True)\n",
    "#print(target_df2.sort_values(by=['Id']))\n",
    "target_df2.to_csv('submission.csv',index=False)  \n",
    "\n",
    "target_df3 = pd.read_csv('submission.csv')\n",
    "target_df3.sort_values(by=['Id'])"
   ]
  },
  {
   "cell_type": "markdown",
   "id": "2bfac710",
   "metadata": {
    "papermill": {
     "duration": 0.016858,
     "end_time": "2022-11-03T16:18:26.983407",
     "exception": false,
     "start_time": "2022-11-03T16:18:26.966549",
     "status": "completed"
    },
    "tags": []
   },
   "source": [
    "## Model evaluation"
   ]
  },
  {
   "cell_type": "code",
   "execution_count": 29,
   "id": "857f891f",
   "metadata": {
    "execution": {
     "iopub.execute_input": "2022-11-03T16:18:27.021090Z",
     "iopub.status.busy": "2022-11-03T16:18:27.020458Z",
     "iopub.status.idle": "2022-11-03T16:18:27.025325Z",
     "shell.execute_reply": "2022-11-03T16:18:27.024503Z"
    },
    "papermill": {
     "duration": 0.026866,
     "end_time": "2022-11-03T16:18:27.027507",
     "exception": false,
     "start_time": "2022-11-03T16:18:27.000641",
     "status": "completed"
    },
    "tags": []
   },
   "outputs": [],
   "source": [
    "from sklearn.model_selection import KFold\n",
    "from sklearn.model_selection import cross_val_score\n"
   ]
  },
  {
   "cell_type": "markdown",
   "id": "ae079f92",
   "metadata": {
    "papermill": {
     "duration": 0.01688,
     "end_time": "2022-11-03T16:18:27.061471",
     "exception": false,
     "start_time": "2022-11-03T16:18:27.044591",
     "status": "completed"
    },
    "tags": []
   },
   "source": [
    "### Creating a df merging train and test for fitting "
   ]
  },
  {
   "cell_type": "code",
   "execution_count": 30,
   "id": "da03d6c5",
   "metadata": {
    "execution": {
     "iopub.execute_input": "2022-11-03T16:18:27.099539Z",
     "iopub.status.busy": "2022-11-03T16:18:27.098861Z",
     "iopub.status.idle": "2022-11-03T16:18:27.108669Z",
     "shell.execute_reply": "2022-11-03T16:18:27.107656Z"
    },
    "papermill": {
     "duration": 0.031375,
     "end_time": "2022-11-03T16:18:27.111210",
     "exception": false,
     "start_time": "2022-11-03T16:18:27.079835",
     "status": "completed"
    },
    "tags": []
   },
   "outputs": [],
   "source": [
    "# evaluate xgboost algorithm for classification\n",
    "\n",
    "clean_df['Category'].replace({'Graduate': 2, 'Enrolled': 1, 'Dropout': 0},inplace = True)\n",
    "y = clean_df['Category']\n",
    "y.value_counts()\n",
    "sc = StandardScaler()\n",
    "# X = sc.fit_transform(X)"
   ]
  },
  {
   "cell_type": "markdown",
   "id": "1a2b0274",
   "metadata": {
    "papermill": {
     "duration": 0.017326,
     "end_time": "2022-11-03T16:18:27.145745",
     "exception": false,
     "start_time": "2022-11-03T16:18:27.128419",
     "status": "completed"
    },
    "tags": []
   },
   "source": [
    "### K Fold cross validation"
   ]
  },
  {
   "cell_type": "code",
   "execution_count": 31,
   "id": "4ddef836",
   "metadata": {
    "execution": {
     "iopub.execute_input": "2022-11-03T16:18:27.182289Z",
     "iopub.status.busy": "2022-11-03T16:18:27.181629Z",
     "iopub.status.idle": "2022-11-03T16:18:29.839491Z",
     "shell.execute_reply": "2022-11-03T16:18:29.838238Z"
    },
    "papermill": {
     "duration": 2.679145,
     "end_time": "2022-11-03T16:18:29.842288",
     "exception": false,
     "start_time": "2022-11-03T16:18:27.163143",
     "status": "completed"
    },
    "tags": []
   },
   "outputs": [],
   "source": [
    "gbc = GradientBoostingClassifier(n_estimators=150, learning_rate=1.0,max_depth= 5,\n",
    "    max_features= 0.4, subsample= 1, random_state=0).fit(X_train_all, y_train)\n",
    "kfold_validation = KFold(10)"
   ]
  },
  {
   "cell_type": "code",
   "execution_count": 32,
   "id": "a8908b66",
   "metadata": {
    "execution": {
     "iopub.execute_input": "2022-11-03T16:18:29.878030Z",
     "iopub.status.busy": "2022-11-03T16:18:29.877547Z",
     "iopub.status.idle": "2022-11-03T16:18:29.884373Z",
     "shell.execute_reply": "2022-11-03T16:18:29.883400Z"
    },
    "papermill": {
     "duration": 0.027494,
     "end_time": "2022-11-03T16:18:29.886455",
     "exception": false,
     "start_time": "2022-11-03T16:18:29.858961",
     "status": "completed"
    },
    "tags": []
   },
   "outputs": [
    {
     "data": {
      "text/plain": [
       "'results = cross_val_score(gbc, X,y, cv=kfold_validation)\\nprint(results)\\nprint(np.mean(results))'"
      ]
     },
     "execution_count": 32,
     "metadata": {},
     "output_type": "execute_result"
    }
   ],
   "source": [
    "\"\"\"results = cross_val_score(gbc, X,y, cv=kfold_validation)\n",
    "print(results)\n",
    "print(np.mean(results))\"\"\""
   ]
  },
  {
   "cell_type": "markdown",
   "id": "4547e672",
   "metadata": {
    "papermill": {
     "duration": 0.016388,
     "end_time": "2022-11-03T16:18:29.919707",
     "exception": false,
     "start_time": "2022-11-03T16:18:29.903319",
     "status": "completed"
    },
    "tags": []
   },
   "source": [
    "## Submitting the first results\n"
   ]
  },
  {
   "cell_type": "code",
   "execution_count": 33,
   "id": "a6dee2f6",
   "metadata": {
    "execution": {
     "iopub.execute_input": "2022-11-03T16:18:29.954839Z",
     "iopub.status.busy": "2022-11-03T16:18:29.954425Z",
     "iopub.status.idle": "2022-11-03T16:18:29.961704Z",
     "shell.execute_reply": "2022-11-03T16:18:29.960533Z"
    },
    "papermill": {
     "duration": 0.027383,
     "end_time": "2022-11-03T16:18:29.963808",
     "exception": false,
     "start_time": "2022-11-03T16:18:29.936425",
     "status": "completed"
    },
    "tags": []
   },
   "outputs": [
    {
     "data": {
      "text/plain": [
       "array(['Graduate', 'Dropout', 'Enrolled'], dtype=object)"
      ]
     },
     "execution_count": 33,
     "metadata": {},
     "output_type": "execute_result"
    }
   ],
   "source": [
    "train_df['Category'].unique()"
   ]
  },
  {
   "cell_type": "code",
   "execution_count": 34,
   "id": "d7ed69b2",
   "metadata": {
    "execution": {
     "iopub.execute_input": "2022-11-03T16:18:30.000296Z",
     "iopub.status.busy": "2022-11-03T16:18:29.999213Z",
     "iopub.status.idle": "2022-11-03T16:18:30.019934Z",
     "shell.execute_reply": "2022-11-03T16:18:30.018714Z"
    },
    "papermill": {
     "duration": 0.041736,
     "end_time": "2022-11-03T16:18:30.022602",
     "exception": false,
     "start_time": "2022-11-03T16:18:29.980866",
     "status": "completed"
    },
    "tags": []
   },
   "outputs": [
    {
     "name": "stderr",
     "output_type": "stream",
     "text": [
      "/opt/conda/lib/python3.7/site-packages/sklearn/base.py:444: UserWarning: X has feature names, but GradientBoostingClassifier was fitted without feature names\n",
      "  f\"X has feature names, but {self.__class__.__name__} was fitted without\"\n"
     ]
    }
   ],
   "source": [
    "X_target_gbc = test_df\n",
    "y_target_gbc = gbc.predict(test_df)\n",
    "target_df = pd.DataFrame(test_df['Id'])\n",
    "Category = y_target_gbc.tolist()\n",
    "target_df['Category'] = Category\n",
    "\n",
    "#target_df.to_csv('submission.csv',index=False)  \n",
    "\n",
    "#target_df = pd.read_csv('submission.csv')\n",
    "#target_df['Category'].unique()"
   ]
  },
  {
   "cell_type": "code",
   "execution_count": 35,
   "id": "35dbe7db",
   "metadata": {
    "execution": {
     "iopub.execute_input": "2022-11-03T16:18:30.058839Z",
     "iopub.status.busy": "2022-11-03T16:18:30.058385Z",
     "iopub.status.idle": "2022-11-03T16:18:30.063518Z",
     "shell.execute_reply": "2022-11-03T16:18:30.062386Z"
    },
    "papermill": {
     "duration": 0.025955,
     "end_time": "2022-11-03T16:18:30.065794",
     "exception": false,
     "start_time": "2022-11-03T16:18:30.039839",
     "status": "completed"
    },
    "tags": []
   },
   "outputs": [],
   "source": [
    "#from sklearn.model_selection import RepeatedKFold\n",
    "\n",
    "#rkf = RepeatedKFold(n_splits=2, n_repeats=2, random_state=2652124)\n",
    "#for train_index, test_index in rkf.split(X):\n",
    "# define model evaluation method\n",
    "#cv = RepeatedKFold(n_splits=10, n_repeats=3, random_state=1)\n",
    "# evaluate model\n",
    "#scores = cross_val_score(model, X, y, scoring='neg_mean_absolute_error', cv=cv, n_jobs=-1)"
   ]
  },
  {
   "cell_type": "markdown",
   "id": "4660cdc8",
   "metadata": {
    "papermill": {
     "duration": 0.016826,
     "end_time": "2022-11-03T16:18:30.100103",
     "exception": false,
     "start_time": "2022-11-03T16:18:30.083277",
     "status": "completed"
    },
    "tags": []
   },
   "source": [
    "### Setting a numeric y"
   ]
  },
  {
   "cell_type": "code",
   "execution_count": 36,
   "id": "c2f6e4e2",
   "metadata": {
    "execution": {
     "iopub.execute_input": "2022-11-03T16:18:30.136134Z",
     "iopub.status.busy": "2022-11-03T16:18:30.135674Z",
     "iopub.status.idle": "2022-11-03T16:18:30.145271Z",
     "shell.execute_reply": "2022-11-03T16:18:30.144430Z"
    },
    "papermill": {
     "duration": 0.030066,
     "end_time": "2022-11-03T16:18:30.147250",
     "exception": false,
     "start_time": "2022-11-03T16:18:30.117184",
     "status": "completed"
    },
    "tags": []
   },
   "outputs": [],
   "source": [
    "y_train_num = y_train.replace({'Graduate': 2, 'Enrolled': 1, 'Dropout': 0})\n",
    "y_test_num = y_test.replace({'Graduate': 2, 'Enrolled': 1, 'Dropout': 0})"
   ]
  },
  {
   "cell_type": "markdown",
   "id": "552ac53e",
   "metadata": {
    "papermill": {
     "duration": 0.016609,
     "end_time": "2022-11-03T16:18:30.181210",
     "exception": false,
     "start_time": "2022-11-03T16:18:30.164601",
     "status": "completed"
    },
    "tags": []
   },
   "source": [
    "### Esploring the XGBRFClassifier"
   ]
  },
  {
   "cell_type": "code",
   "execution_count": 37,
   "id": "26031c3c",
   "metadata": {
    "execution": {
     "iopub.execute_input": "2022-11-03T16:18:30.217445Z",
     "iopub.status.busy": "2022-11-03T16:18:30.216323Z",
     "iopub.status.idle": "2022-11-03T16:18:41.730745Z",
     "shell.execute_reply": "2022-11-03T16:18:41.729659Z"
    },
    "papermill": {
     "duration": 11.535756,
     "end_time": "2022-11-03T16:18:41.733810",
     "exception": false,
     "start_time": "2022-11-03T16:18:30.198054",
     "status": "completed"
    },
    "tags": []
   },
   "outputs": [
    {
     "data": {
      "text/plain": [
       "0.7612951807228916"
      ]
     },
     "execution_count": 37,
     "metadata": {},
     "output_type": "execute_result"
    }
   ],
   "source": [
    "XGBRFC = XGBRFClassifier( n_estimators=1000, max_depth=7, eta=0.1, subsample=0.7, colsample_bytree=0.8)\n",
    "\n",
    "xgb = XGBRFC.fit(X_train_all, y_train_num)\n",
    "xgb.score(X_test_all, y_test_num)"
   ]
  },
  {
   "cell_type": "code",
   "execution_count": 38,
   "id": "3b872484",
   "metadata": {
    "execution": {
     "iopub.execute_input": "2022-11-03T16:18:41.771870Z",
     "iopub.status.busy": "2022-11-03T16:18:41.771253Z",
     "iopub.status.idle": "2022-11-03T16:18:41.777163Z",
     "shell.execute_reply": "2022-11-03T16:18:41.776434Z"
    },
    "papermill": {
     "duration": 0.026731,
     "end_time": "2022-11-03T16:18:41.779138",
     "exception": false,
     "start_time": "2022-11-03T16:18:41.752407",
     "status": "completed"
    },
    "tags": []
   },
   "outputs": [
    {
     "data": {
      "text/plain": [
       "dict_keys(['colsample_bynode', 'learning_rate', 'reg_lambda', 'subsample', 'objective', 'use_label_encoder', 'base_score', 'booster', 'callbacks', 'colsample_bylevel', 'colsample_bytree', 'early_stopping_rounds', 'enable_categorical', 'eval_metric', 'gamma', 'gpu_id', 'grow_policy', 'importance_type', 'interaction_constraints', 'max_bin', 'max_cat_to_onehot', 'max_delta_step', 'max_depth', 'max_leaves', 'min_child_weight', 'missing', 'monotone_constraints', 'n_estimators', 'n_jobs', 'num_parallel_tree', 'predictor', 'random_state', 'reg_alpha', 'sampling_method', 'scale_pos_weight', 'tree_method', 'validate_parameters', 'verbosity'])"
      ]
     },
     "execution_count": 38,
     "metadata": {},
     "output_type": "execute_result"
    }
   ],
   "source": [
    "XGBRFClassifier().get_params().keys()"
   ]
  },
  {
   "cell_type": "markdown",
   "id": "1db810e3",
   "metadata": {
    "papermill": {
     "duration": 0.017122,
     "end_time": "2022-11-03T16:18:41.813725",
     "exception": false,
     "start_time": "2022-11-03T16:18:41.796603",
     "status": "completed"
    },
    "tags": []
   },
   "source": [
    "### Tuning the XGBRFClassifier"
   ]
  },
  {
   "cell_type": "code",
   "execution_count": 39,
   "id": "658ab77a",
   "metadata": {
    "execution": {
     "iopub.execute_input": "2022-11-03T16:18:41.850870Z",
     "iopub.status.busy": "2022-11-03T16:18:41.850146Z",
     "iopub.status.idle": "2022-11-03T16:18:41.856372Z",
     "shell.execute_reply": "2022-11-03T16:18:41.855568Z"
    },
    "papermill": {
     "duration": 0.026979,
     "end_time": "2022-11-03T16:18:41.858331",
     "exception": false,
     "start_time": "2022-11-03T16:18:41.831352",
     "status": "completed"
    },
    "tags": []
   },
   "outputs": [
    {
     "data": {
      "text/plain": [
       "\"\\nfrom sklearn.model_selection import GridSearchCV\\nparams_xgb = {\\n    'n_estimators':[600, 500,300],\\n    'max_depth':[11, 10],\\n    'eta':[0.1, 0.15],\\n    'subsample':[0.9,0.8], \\n    'colsample_bytree':[0.5, 0.6]\\n} #{'colsample_bytree': 0.6, 'eta': 0.1, 'max_depth': 10, 'n_estimators': 500, 'subsample': 0.8}\\n#{'colsample_bytree': 0.6, 'eta': 0.1, 'max_depth': 11, 'n_estimators': 500, 'subsample': 0.9}\\n\\n\\ngrid_xgb = GridSearchCV(estimator = XGBRFClassifier(), \\n                         param_grid=params_xgb, scoring ='accuracy', \\n                         cv=10, n_jobs=-1 )\\ngrid_xgb.fit(X_train, y_train_num)\\nprint(grid_xgb.best_params_)\\n\""
      ]
     },
     "execution_count": 39,
     "metadata": {},
     "output_type": "execute_result"
    }
   ],
   "source": [
    "\"\"\"\n",
    "from sklearn.model_selection import GridSearchCV\n",
    "params_xgb = {\n",
    "    'n_estimators':[600, 500,300],\n",
    "    'max_depth':[11, 10],\n",
    "    'eta':[0.1, 0.15],\n",
    "    'subsample':[0.9,0.8], \n",
    "    'colsample_bytree':[0.5, 0.6]\n",
    "} #{'colsample_bytree': 0.6, 'eta': 0.1, 'max_depth': 10, 'n_estimators': 500, 'subsample': 0.8}\n",
    "#{'colsample_bytree': 0.6, 'eta': 0.1, 'max_depth': 11, 'n_estimators': 500, 'subsample': 0.9}\n",
    "\n",
    "\n",
    "grid_xgb = GridSearchCV(estimator = XGBRFClassifier(), \n",
    "                         param_grid=params_xgb, scoring ='accuracy', \n",
    "                         cv=10, n_jobs=-1 )\n",
    "grid_xgb.fit(X_train, y_train_num)\n",
    "print(grid_xgb.best_params_)\n",
    "\"\"\""
   ]
  },
  {
   "cell_type": "code",
   "execution_count": 40,
   "id": "285821ef",
   "metadata": {
    "execution": {
     "iopub.execute_input": "2022-11-03T16:18:41.896182Z",
     "iopub.status.busy": "2022-11-03T16:18:41.895464Z",
     "iopub.status.idle": "2022-11-03T16:18:51.055800Z",
     "shell.execute_reply": "2022-11-03T16:18:51.054743Z"
    },
    "papermill": {
     "duration": 9.182621,
     "end_time": "2022-11-03T16:18:51.058720",
     "exception": false,
     "start_time": "2022-11-03T16:18:41.876099",
     "status": "completed"
    },
    "tags": []
   },
   "outputs": [
    {
     "data": {
      "text/plain": [
       "0.7658132530120482"
      ]
     },
     "execution_count": 40,
     "metadata": {},
     "output_type": "execute_result"
    }
   ],
   "source": [
    "XGBRFC = XGBRFClassifier( #n_estimators=1000, max_depth=7, eta=0.1, subsample=0.7, colsample_bytree=0.8)\n",
    "    colsample_bytree= 0.6, \n",
    "    eta= 0.1, \n",
    "    max_depth= 11, \n",
    "    n_estimators= 500, \n",
    "    subsample= 0.9)\n",
    "#{'colsample_bytree': 0.6, 'eta': 0.1, 'max_depth': 10, 'n_estimators': 500, 'subsample': 0.8}\n",
    "#{'colsample_bytree': 0.6, 'eta': 0.1, 'max_depth': 11, 'n_estimators': 500, 'subsample': 0.9}\n",
    "\n",
    "xgb = XGBRFC.fit(X_train_all, y_train_num)\n",
    "xgb.score(X_test_all, y_test_num)"
   ]
  },
  {
   "cell_type": "code",
   "execution_count": 41,
   "id": "0c80a1b5",
   "metadata": {
    "execution": {
     "iopub.execute_input": "2022-11-03T16:18:51.098067Z",
     "iopub.status.busy": "2022-11-03T16:18:51.097665Z",
     "iopub.status.idle": "2022-11-03T16:18:51.141077Z",
     "shell.execute_reply": "2022-11-03T16:18:51.140103Z"
    },
    "papermill": {
     "duration": 0.065617,
     "end_time": "2022-11-03T16:18:51.143639",
     "exception": false,
     "start_time": "2022-11-03T16:18:51.078022",
     "status": "completed"
    },
    "tags": []
   },
   "outputs": [
    {
     "data": {
      "text/html": [
       "<div>\n",
       "<style scoped>\n",
       "    .dataframe tbody tr th:only-of-type {\n",
       "        vertical-align: middle;\n",
       "    }\n",
       "\n",
       "    .dataframe tbody tr th {\n",
       "        vertical-align: top;\n",
       "    }\n",
       "\n",
       "    .dataframe thead th {\n",
       "        text-align: right;\n",
       "    }\n",
       "</style>\n",
       "<table border=\"1\" class=\"dataframe\">\n",
       "  <thead>\n",
       "    <tr style=\"text-align: right;\">\n",
       "      <th></th>\n",
       "      <th>Id</th>\n",
       "      <th>Category</th>\n",
       "    </tr>\n",
       "  </thead>\n",
       "  <tbody>\n",
       "    <tr>\n",
       "      <th>0</th>\n",
       "      <td>3557</td>\n",
       "      <td>0</td>\n",
       "    </tr>\n",
       "    <tr>\n",
       "      <th>1</th>\n",
       "      <td>1980</td>\n",
       "      <td>2</td>\n",
       "    </tr>\n",
       "    <tr>\n",
       "      <th>2</th>\n",
       "      <td>1112</td>\n",
       "      <td>2</td>\n",
       "    </tr>\n",
       "    <tr>\n",
       "      <th>3</th>\n",
       "      <td>2914</td>\n",
       "      <td>0</td>\n",
       "    </tr>\n",
       "    <tr>\n",
       "      <th>4</th>\n",
       "      <td>2745</td>\n",
       "      <td>2</td>\n",
       "    </tr>\n",
       "    <tr>\n",
       "      <th>...</th>\n",
       "      <td>...</td>\n",
       "      <td>...</td>\n",
       "    </tr>\n",
       "    <tr>\n",
       "      <th>615</th>\n",
       "      <td>335</td>\n",
       "      <td>2</td>\n",
       "    </tr>\n",
       "    <tr>\n",
       "      <th>616</th>\n",
       "      <td>1639</td>\n",
       "      <td>2</td>\n",
       "    </tr>\n",
       "    <tr>\n",
       "      <th>617</th>\n",
       "      <td>1381</td>\n",
       "      <td>0</td>\n",
       "    </tr>\n",
       "    <tr>\n",
       "      <th>618</th>\n",
       "      <td>2455</td>\n",
       "      <td>2</td>\n",
       "    </tr>\n",
       "    <tr>\n",
       "      <th>619</th>\n",
       "      <td>2004</td>\n",
       "      <td>0</td>\n",
       "    </tr>\n",
       "  </tbody>\n",
       "</table>\n",
       "<p>620 rows × 2 columns</p>\n",
       "</div>"
      ],
      "text/plain": [
       "       Id  Category\n",
       "0    3557         0\n",
       "1    1980         2\n",
       "2    1112         2\n",
       "3    2914         0\n",
       "4    2745         2\n",
       "..    ...       ...\n",
       "615   335         2\n",
       "616  1639         2\n",
       "617  1381         0\n",
       "618  2455         2\n",
       "619  2004         0\n",
       "\n",
       "[620 rows x 2 columns]"
      ]
     },
     "execution_count": 41,
     "metadata": {},
     "output_type": "execute_result"
    }
   ],
   "source": [
    "#X_target = test_df[features]\n",
    "X_target_all = test_df.copy()\n",
    "y_target_num = xgb.predict(X_target_all)\n",
    "\n",
    "#y_target = y_train.replace({ 2:'Graduate', 1 : 'Enrolled', 0 : 'Dropout'}, inplace = True)\n",
    "#print(len(y_target))\n",
    "target_df2 = pd.DataFrame(test_df['Id'])\n",
    "\n",
    "Category = y_target_num.tolist()\n",
    "\n",
    "target_df2['Category'] = Category\n",
    "target_df2"
   ]
  },
  {
   "cell_type": "code",
   "execution_count": 42,
   "id": "1a4a19fd",
   "metadata": {
    "execution": {
     "iopub.execute_input": "2022-11-03T16:18:51.182319Z",
     "iopub.status.busy": "2022-11-03T16:18:51.181511Z",
     "iopub.status.idle": "2022-11-03T16:18:51.188180Z",
     "shell.execute_reply": "2022-11-03T16:18:51.187322Z"
    },
    "papermill": {
     "duration": 0.028396,
     "end_time": "2022-11-03T16:18:51.190398",
     "exception": false,
     "start_time": "2022-11-03T16:18:51.162002",
     "status": "completed"
    },
    "tags": []
   },
   "outputs": [
    {
     "data": {
      "text/plain": [
       "\"target_df2.replace({ 2:'Graduate', 1 : 'Enrolled', 0 : 'Dropout'}, inplace = True)\\nprint(target_df2)\""
      ]
     },
     "execution_count": 42,
     "metadata": {},
     "output_type": "execute_result"
    }
   ],
   "source": [
    "\"\"\"target_df2.replace({ 2:'Graduate', 1 : 'Enrolled', 0 : 'Dropout'}, inplace = True)\n",
    "print(target_df2)\"\"\""
   ]
  },
  {
   "cell_type": "code",
   "execution_count": 43,
   "id": "e9d1d284",
   "metadata": {
    "execution": {
     "iopub.execute_input": "2022-11-03T16:18:51.228680Z",
     "iopub.status.busy": "2022-11-03T16:18:51.227889Z",
     "iopub.status.idle": "2022-11-03T16:18:51.234590Z",
     "shell.execute_reply": "2022-11-03T16:18:51.233552Z"
    },
    "papermill": {
     "duration": 0.028238,
     "end_time": "2022-11-03T16:18:51.236672",
     "exception": false,
     "start_time": "2022-11-03T16:18:51.208434",
     "status": "completed"
    },
    "tags": []
   },
   "outputs": [
    {
     "data": {
      "text/plain": [
       "\"target_df2.to_csv('submission.csv',index=False)  \\n\\ntarget_df2 = pd.read_csv('submission.csv')\\ntarget_df2\""
      ]
     },
     "execution_count": 43,
     "metadata": {},
     "output_type": "execute_result"
    }
   ],
   "source": [
    "\"\"\"target_df2.to_csv('submission.csv',index=False)  \n",
    "\n",
    "target_df2 = pd.read_csv('submission.csv')\n",
    "target_df2\"\"\""
   ]
  },
  {
   "cell_type": "markdown",
   "id": "876dc982",
   "metadata": {
    "papermill": {
     "duration": 0.017899,
     "end_time": "2022-11-03T16:18:51.272851",
     "exception": false,
     "start_time": "2022-11-03T16:18:51.254952",
     "status": "completed"
    },
    "tags": []
   },
   "source": [
    "### Esploring the XGBClassifier"
   ]
  },
  {
   "cell_type": "code",
   "execution_count": 44,
   "id": "e471c6b1",
   "metadata": {
    "execution": {
     "iopub.execute_input": "2022-11-03T16:18:51.311045Z",
     "iopub.status.busy": "2022-11-03T16:18:51.310404Z",
     "iopub.status.idle": "2022-11-03T16:19:03.194713Z",
     "shell.execute_reply": "2022-11-03T16:19:03.193744Z"
    },
    "papermill": {
     "duration": 11.906578,
     "end_time": "2022-11-03T16:19:03.197488",
     "exception": false,
     "start_time": "2022-11-03T16:18:51.290910",
     "status": "completed"
    },
    "tags": []
   },
   "outputs": [
    {
     "data": {
      "text/plain": [
       "{'objective': 'multi:softprob',\n",
       " 'use_label_encoder': False,\n",
       " 'base_score': 0.5,\n",
       " 'booster': 'gbtree',\n",
       " 'callbacks': None,\n",
       " 'colsample_bylevel': 1,\n",
       " 'colsample_bynode': 1,\n",
       " 'colsample_bytree': 0.8,\n",
       " 'early_stopping_rounds': None,\n",
       " 'enable_categorical': False,\n",
       " 'eval_metric': None,\n",
       " 'gamma': 0,\n",
       " 'gpu_id': -1,\n",
       " 'grow_policy': 'depthwise',\n",
       " 'importance_type': None,\n",
       " 'interaction_constraints': '',\n",
       " 'learning_rate': 0.100000001,\n",
       " 'max_bin': 256,\n",
       " 'max_cat_to_onehot': 4,\n",
       " 'max_delta_step': 0,\n",
       " 'max_depth': 7,\n",
       " 'max_leaves': 0,\n",
       " 'min_child_weight': 1,\n",
       " 'missing': nan,\n",
       " 'monotone_constraints': '()',\n",
       " 'n_estimators': 1000,\n",
       " 'n_jobs': 0,\n",
       " 'num_parallel_tree': 1,\n",
       " 'predictor': 'auto',\n",
       " 'random_state': 0,\n",
       " 'reg_alpha': 0,\n",
       " 'reg_lambda': 1,\n",
       " 'sampling_method': 'uniform',\n",
       " 'scale_pos_weight': None,\n",
       " 'subsample': 0.7,\n",
       " 'tree_method': 'exact',\n",
       " 'validate_parameters': 1,\n",
       " 'verbosity': None,\n",
       " 'eta': 0.1}"
      ]
     },
     "execution_count": 44,
     "metadata": {},
     "output_type": "execute_result"
    }
   ],
   "source": [
    "xgbc = XGBClassifier( n_estimators=1000, max_depth=7, eta=0.1, subsample=0.7, colsample_bytree=0.8)\n",
    "\n",
    "xgbc = xgbc.fit(X_train_all, y_train_num)\n",
    "xgbc.score(X_test_all, y_test_num)\n",
    "xgbc.get_params()"
   ]
  },
  {
   "cell_type": "markdown",
   "id": "3de2f66e",
   "metadata": {
    "papermill": {
     "duration": 0.017919,
     "end_time": "2022-11-03T16:19:03.234686",
     "exception": false,
     "start_time": "2022-11-03T16:19:03.216767",
     "status": "completed"
    },
    "tags": []
   },
   "source": [
    "### Tuning the XGBClassifier"
   ]
  },
  {
   "cell_type": "code",
   "execution_count": 45,
   "id": "c0d61917",
   "metadata": {
    "execution": {
     "iopub.execute_input": "2022-11-03T16:19:03.274139Z",
     "iopub.status.busy": "2022-11-03T16:19:03.273502Z",
     "iopub.status.idle": "2022-11-03T16:19:03.282042Z",
     "shell.execute_reply": "2022-11-03T16:19:03.280789Z"
    },
    "papermill": {
     "duration": 0.031527,
     "end_time": "2022-11-03T16:19:03.284533",
     "exception": false,
     "start_time": "2022-11-03T16:19:03.253006",
     "status": "completed"
    },
    "tags": []
   },
   "outputs": [
    {
     "data": {
      "text/plain": [
       "\"\\nbase_params_xgb = {'objective': ['multi:softprob'],\\n 'use_label_encoder': [False],\\n 'base_score': [0.5],\\n 'booster': ['gbtree'],\\n 'callbacks': [None],\\n 'colsample_bylevel': [1],\\n 'colsample_bynode': [1],\\n 'colsample_bytree': [0.8],\\n 'early_stopping_rounds': [None],\\n 'enable_categorical': [False],\\n 'eval_metric': [None],\\n 'gamma':[0, 0.1, 0.5, 0.8],\\n 'gpu_id': [-1],\\n 'grow_policy': ['depthwise'],\\n 'importance_type': [None],\\n 'interaction_constraints': [''],\\n 'learning_rate': [0.100000001],# {'colsample_bytree': 0.8, 'eta': 0.1, 'max_depth': 6, 'n_estimators': 1000, 'subsample': 0.6, 'tree_method': 'hist'}\\n 'max_bin': [256],\\n 'max_cat_to_onehot':[4],\\n 'max_delta_step': [0],\\n 'max_depth': [7,6],\\n 'max_leaves': [0],\\n 'min_child_weight': [1],\\n #'missing': [nan],\\n 'monotone_constraints': ['()'],\\n 'n_estimators': [1000],\\n 'n_jobs': [0],\\n 'num_parallel_tree': [1],\\n 'predictor': ['auto'],\\n 'random_state': [0],\\n 'reg_alpha': [0],\\n 'reg_lambda': [1],\\n 'sampling_method': ['uniform'],\\n 'scale_pos_weight': [None],\\n 'subsample': [0.7,0.6],\\n 'tree_method': ['exact','hist'],\\n 'validate_parameters': [1],\\n 'verbosity': [None],\\n 'eta': [0.1]}\\nparams_xgb = {\\n    'tree_method':['hist'],\\n    'n_estimators':[1000,1100],\\n    'max_depth':[6, 7],#max_depth, min_child_weight and gamma\\n    'eta':[0.1,0.15], #reduce stepsize eta. Remember to increase num_round when you do so.\\n    'subsample':[0.6,0.66], # subsample and colsample_bytree.\\n    'colsample_bytree':[0.8, 0.9]\\n}#n_estimators=1000, max_depth=7, eta=0.1, subsample=0.7, colsample_bytree=0.8\\n# {'colsample_bytree': 0.8, 'eta': 0.1, 'max_depth': 6, 'n_estimators': 1000, 'subsample': 0.6, 'tree_method': 'hist'}\\n\\n\\ngrid_xgb = GridSearchCV(estimator = XGBClassifier(), \\n                         param_grid=base_params_xgb, scoring ='accuracy', \\n                         cv=10, n_jobs=-1 )\\ngrid_xgb.fit(X_train, y_train_num)\\nprint(grid_xgb.best_params_)\\n\""
      ]
     },
     "execution_count": 45,
     "metadata": {},
     "output_type": "execute_result"
    }
   ],
   "source": [
    "\"\"\"\n",
    "base_params_xgb = {'objective': ['multi:softprob'],\n",
    " 'use_label_encoder': [False],\n",
    " 'base_score': [0.5],\n",
    " 'booster': ['gbtree'],\n",
    " 'callbacks': [None],\n",
    " 'colsample_bylevel': [1],\n",
    " 'colsample_bynode': [1],\n",
    " 'colsample_bytree': [0.8],\n",
    " 'early_stopping_rounds': [None],\n",
    " 'enable_categorical': [False],\n",
    " 'eval_metric': [None],\n",
    " 'gamma':[0, 0.1, 0.5, 0.8],\n",
    " 'gpu_id': [-1],\n",
    " 'grow_policy': ['depthwise'],\n",
    " 'importance_type': [None],\n",
    " 'interaction_constraints': [''],\n",
    " 'learning_rate': [0.100000001],# {'colsample_bytree': 0.8, 'eta': 0.1, 'max_depth': 6, 'n_estimators': 1000, 'subsample': 0.6, 'tree_method': 'hist'}\n",
    " 'max_bin': [256],\n",
    " 'max_cat_to_onehot':[4],\n",
    " 'max_delta_step': [0],\n",
    " 'max_depth': [7,6],\n",
    " 'max_leaves': [0],\n",
    " 'min_child_weight': [1],\n",
    " #'missing': [nan],\n",
    " 'monotone_constraints': ['()'],\n",
    " 'n_estimators': [1000],\n",
    " 'n_jobs': [0],\n",
    " 'num_parallel_tree': [1],\n",
    " 'predictor': ['auto'],\n",
    " 'random_state': [0],\n",
    " 'reg_alpha': [0],\n",
    " 'reg_lambda': [1],\n",
    " 'sampling_method': ['uniform'],\n",
    " 'scale_pos_weight': [None],\n",
    " 'subsample': [0.7,0.6],\n",
    " 'tree_method': ['exact','hist'],\n",
    " 'validate_parameters': [1],\n",
    " 'verbosity': [None],\n",
    " 'eta': [0.1]}\n",
    "params_xgb = {\n",
    "    'tree_method':['hist'],\n",
    "    'n_estimators':[1000,1100],\n",
    "    'max_depth':[6, 7],#max_depth, min_child_weight and gamma\n",
    "    'eta':[0.1,0.15], #reduce stepsize eta. Remember to increase num_round when you do so.\n",
    "    'subsample':[0.6,0.66], # subsample and colsample_bytree.\n",
    "    'colsample_bytree':[0.8, 0.9]\n",
    "}#n_estimators=1000, max_depth=7, eta=0.1, subsample=0.7, colsample_bytree=0.8\n",
    "# {'colsample_bytree': 0.8, 'eta': 0.1, 'max_depth': 6, 'n_estimators': 1000, 'subsample': 0.6, 'tree_method': 'hist'}\n",
    "\n",
    "\n",
    "grid_xgb = GridSearchCV(estimator = XGBClassifier(), \n",
    "                         param_grid=base_params_xgb, scoring ='accuracy', \n",
    "                         cv=10, n_jobs=-1 )\n",
    "grid_xgb.fit(X_train, y_train_num)\n",
    "print(grid_xgb.best_params_)\n",
    "\"\"\""
   ]
  },
  {
   "cell_type": "code",
   "execution_count": 46,
   "id": "39b53d77",
   "metadata": {
    "execution": {
     "iopub.execute_input": "2022-11-03T16:19:03.323154Z",
     "iopub.status.busy": "2022-11-03T16:19:03.322758Z",
     "iopub.status.idle": "2022-11-03T16:19:03.327564Z",
     "shell.execute_reply": "2022-11-03T16:19:03.326342Z"
    },
    "papermill": {
     "duration": 0.026805,
     "end_time": "2022-11-03T16:19:03.329934",
     "exception": false,
     "start_time": "2022-11-03T16:19:03.303129",
     "status": "completed"
    },
    "tags": []
   },
   "outputs": [],
   "source": [
    "#ROC curve https://www.youtube.com/watch?v=3fzYdnuvEfk"
   ]
  },
  {
   "cell_type": "code",
   "execution_count": 47,
   "id": "82dc1cf5",
   "metadata": {
    "execution": {
     "iopub.execute_input": "2022-11-03T16:19:03.368533Z",
     "iopub.status.busy": "2022-11-03T16:19:03.368131Z",
     "iopub.status.idle": "2022-11-03T16:19:10.980082Z",
     "shell.execute_reply": "2022-11-03T16:19:10.979214Z"
    },
    "papermill": {
     "duration": 7.634216,
     "end_time": "2022-11-03T16:19:10.982796",
     "exception": false,
     "start_time": "2022-11-03T16:19:03.348580",
     "status": "completed"
    },
    "tags": []
   },
   "outputs": [
    {
     "data": {
      "text/plain": [
       "0.7605421686746988"
      ]
     },
     "execution_count": 47,
     "metadata": {},
     "output_type": "execute_result"
    }
   ],
   "source": [
    "xgbc = XGBClassifier( tree_method='hist', n_estimators=1000, max_depth=6, eta=0.1, subsample=0.66, colsample_bytree=0.8)\n",
    "#n_estimators=1000, max_depth=7, eta=0.1, subsample=0.7, colsample_bytree=0.8 -> 0.7635542168674698\n",
    "#tree_method='hist', n_estimators=1000, max_depth=7, eta=0.1, subsample=0.66, colsample_bytree=0.8 -> 0.7658132530120482\n",
    "# {'colsample_bytree': 0.8, 'eta': 0.1, 'max_depth': 6, 'n_estimators': 1000, 'subsample': 0.6, 'tree_method': 'hist'} 0.7635542168674698\n",
    "\n",
    "xgbc = xgbc.fit(X_train_all, y_train_num)\n",
    "xgbc.score(X_test_all, y_test_num)"
   ]
  },
  {
   "cell_type": "code",
   "execution_count": 48,
   "id": "18cca28d",
   "metadata": {
    "execution": {
     "iopub.execute_input": "2022-11-03T16:19:11.024533Z",
     "iopub.status.busy": "2022-11-03T16:19:11.024118Z",
     "iopub.status.idle": "2022-11-03T16:19:11.032333Z",
     "shell.execute_reply": "2022-11-03T16:19:11.030947Z"
    },
    "papermill": {
     "duration": 0.032227,
     "end_time": "2022-11-03T16:19:11.034816",
     "exception": false,
     "start_time": "2022-11-03T16:19:11.002589",
     "status": "completed"
    },
    "tags": []
   },
   "outputs": [],
   "source": [
    "corr_features = ['Curricular units 2nd sem (approved)','Curricular units 2nd sem (grade)',\n",
    "'Curricular units 1st sem (grade)','Tuition fees up to date',\n",
    "'Scholarship holder','Curricular units 2nd sem (enrolled)']\n",
    "X_train_corr = clean_train_df.drop(columns=['Category'])\n",
    "X_test_corr = clean_validation_df.drop(columns=['Category'])"
   ]
  },
  {
   "cell_type": "markdown",
   "id": "d9e5bc3f",
   "metadata": {
    "papermill": {
     "duration": 0.018357,
     "end_time": "2022-11-03T16:19:11.071793",
     "exception": false,
     "start_time": "2022-11-03T16:19:11.053436",
     "status": "completed"
    },
    "tags": []
   },
   "source": [
    "### Submitting the best scoring prediction"
   ]
  },
  {
   "cell_type": "code",
   "execution_count": 49,
   "id": "94ddbb97",
   "metadata": {
    "execution": {
     "iopub.execute_input": "2022-11-03T16:19:11.111019Z",
     "iopub.status.busy": "2022-11-03T16:19:11.110606Z",
     "iopub.status.idle": "2022-11-03T16:19:17.321006Z",
     "shell.execute_reply": "2022-11-03T16:19:17.319828Z"
    },
    "papermill": {
     "duration": 6.233563,
     "end_time": "2022-11-03T16:19:17.324008",
     "exception": false,
     "start_time": "2022-11-03T16:19:11.090445",
     "status": "completed"
    },
    "tags": []
   },
   "outputs": [],
   "source": [
    "xgbc = XGBClassifier( tree_method='hist', n_estimators=1000, max_depth=6, eta=0.1, subsample=0.66, colsample_bytree=0.8)\n",
    "\n",
    "X_df = df.drop(columns=['Category'])\n",
    "y_df = df['Category'].copy()\n",
    "y_df_num = y_df.replace({'Graduate': 2, 'Enrolled': 1, 'Dropout': 0})\n",
    "\n",
    "final = xgbc.fit(X_df, y_df_num)"
   ]
  },
  {
   "cell_type": "code",
   "execution_count": 50,
   "id": "ab33a71a",
   "metadata": {
    "execution": {
     "iopub.execute_input": "2022-11-03T16:19:17.364500Z",
     "iopub.status.busy": "2022-11-03T16:19:17.363709Z",
     "iopub.status.idle": "2022-11-03T16:19:17.412533Z",
     "shell.execute_reply": "2022-11-03T16:19:17.411593Z"
    },
    "papermill": {
     "duration": 0.071767,
     "end_time": "2022-11-03T16:19:17.415194",
     "exception": false,
     "start_time": "2022-11-03T16:19:17.343427",
     "status": "completed"
    },
    "tags": []
   },
   "outputs": [
    {
     "data": {
      "text/html": [
       "<div>\n",
       "<style scoped>\n",
       "    .dataframe tbody tr th:only-of-type {\n",
       "        vertical-align: middle;\n",
       "    }\n",
       "\n",
       "    .dataframe tbody tr th {\n",
       "        vertical-align: top;\n",
       "    }\n",
       "\n",
       "    .dataframe thead th {\n",
       "        text-align: right;\n",
       "    }\n",
       "</style>\n",
       "<table border=\"1\" class=\"dataframe\">\n",
       "  <thead>\n",
       "    <tr style=\"text-align: right;\">\n",
       "      <th></th>\n",
       "      <th>Id</th>\n",
       "      <th>Category</th>\n",
       "    </tr>\n",
       "  </thead>\n",
       "  <tbody>\n",
       "    <tr>\n",
       "      <th>332</th>\n",
       "      <td>1</td>\n",
       "      <td>2</td>\n",
       "    </tr>\n",
       "    <tr>\n",
       "      <th>50</th>\n",
       "      <td>2</td>\n",
       "      <td>0</td>\n",
       "    </tr>\n",
       "    <tr>\n",
       "      <th>224</th>\n",
       "      <td>9</td>\n",
       "      <td>1</td>\n",
       "    </tr>\n",
       "    <tr>\n",
       "      <th>605</th>\n",
       "      <td>18</td>\n",
       "      <td>1</td>\n",
       "    </tr>\n",
       "    <tr>\n",
       "      <th>57</th>\n",
       "      <td>22</td>\n",
       "      <td>2</td>\n",
       "    </tr>\n",
       "    <tr>\n",
       "      <th>...</th>\n",
       "      <td>...</td>\n",
       "      <td>...</td>\n",
       "    </tr>\n",
       "    <tr>\n",
       "      <th>399</th>\n",
       "      <td>4375</td>\n",
       "      <td>0</td>\n",
       "    </tr>\n",
       "    <tr>\n",
       "      <th>304</th>\n",
       "      <td>4398</td>\n",
       "      <td>2</td>\n",
       "    </tr>\n",
       "    <tr>\n",
       "      <th>157</th>\n",
       "      <td>4404</td>\n",
       "      <td>0</td>\n",
       "    </tr>\n",
       "    <tr>\n",
       "      <th>267</th>\n",
       "      <td>4406</td>\n",
       "      <td>1</td>\n",
       "    </tr>\n",
       "    <tr>\n",
       "      <th>26</th>\n",
       "      <td>4421</td>\n",
       "      <td>0</td>\n",
       "    </tr>\n",
       "  </tbody>\n",
       "</table>\n",
       "<p>620 rows × 2 columns</p>\n",
       "</div>"
      ],
      "text/plain": [
       "       Id  Category\n",
       "332     1         2\n",
       "50      2         0\n",
       "224     9         1\n",
       "605    18         1\n",
       "57     22         2\n",
       "..    ...       ...\n",
       "399  4375         0\n",
       "304  4398         2\n",
       "157  4404         0\n",
       "267  4406         1\n",
       "26   4421         0\n",
       "\n",
       "[620 rows x 2 columns]"
      ]
     },
     "execution_count": 50,
     "metadata": {},
     "output_type": "execute_result"
    }
   ],
   "source": [
    "#X_target = test_df[features]\n",
    "y_target = final.predict(test_df)\n",
    "\n",
    "#y_target = y_train.replace({ 2:'Graduate', 1 : 'Enrolled', 0 : 'Dropout'}, inplace = True)\n",
    "#print(len(y_target))\n",
    "\n",
    "#xpected 'Id' column to be of type 'Int32', but was 'String'\n",
    "#ERROR: Unable to convert 'Id' column row 51 value 'Graduate' to expected type 'Int32'\n",
    "#ERROR: Unable to convert 'Id' column row 333 value 'Enrolled' to expected type 'Int32'\n",
    "target_df2 = pd.DataFrame(test_df['Id'])\n",
    "target_df2['Id']=target_df2['Id'].astype(int)\n",
    "Category = y_target.tolist()\n",
    "\n",
    "target_df2['Category'] = Category\n",
    "target_df2.sort_values(by=['Id'])"
   ]
  },
  {
   "cell_type": "code",
   "execution_count": 51,
   "id": "9be85a73",
   "metadata": {
    "execution": {
     "iopub.execute_input": "2022-11-03T16:19:17.455001Z",
     "iopub.status.busy": "2022-11-03T16:19:17.454596Z",
     "iopub.status.idle": "2022-11-03T16:19:17.473618Z",
     "shell.execute_reply": "2022-11-03T16:19:17.472589Z"
    },
    "papermill": {
     "duration": 0.041235,
     "end_time": "2022-11-03T16:19:17.475713",
     "exception": false,
     "start_time": "2022-11-03T16:19:17.434478",
     "status": "completed"
    },
    "tags": []
   },
   "outputs": [
    {
     "data": {
      "text/html": [
       "<div>\n",
       "<style scoped>\n",
       "    .dataframe tbody tr th:only-of-type {\n",
       "        vertical-align: middle;\n",
       "    }\n",
       "\n",
       "    .dataframe tbody tr th {\n",
       "        vertical-align: top;\n",
       "    }\n",
       "\n",
       "    .dataframe thead th {\n",
       "        text-align: right;\n",
       "    }\n",
       "</style>\n",
       "<table border=\"1\" class=\"dataframe\">\n",
       "  <thead>\n",
       "    <tr style=\"text-align: right;\">\n",
       "      <th></th>\n",
       "      <th>Id</th>\n",
       "      <th>Category</th>\n",
       "    </tr>\n",
       "  </thead>\n",
       "  <tbody>\n",
       "    <tr>\n",
       "      <th>332</th>\n",
       "      <td>1</td>\n",
       "      <td>Graduate</td>\n",
       "    </tr>\n",
       "    <tr>\n",
       "      <th>50</th>\n",
       "      <td>2</td>\n",
       "      <td>Dropout</td>\n",
       "    </tr>\n",
       "    <tr>\n",
       "      <th>224</th>\n",
       "      <td>9</td>\n",
       "      <td>Enrolled</td>\n",
       "    </tr>\n",
       "    <tr>\n",
       "      <th>605</th>\n",
       "      <td>18</td>\n",
       "      <td>Enrolled</td>\n",
       "    </tr>\n",
       "    <tr>\n",
       "      <th>57</th>\n",
       "      <td>22</td>\n",
       "      <td>Graduate</td>\n",
       "    </tr>\n",
       "    <tr>\n",
       "      <th>...</th>\n",
       "      <td>...</td>\n",
       "      <td>...</td>\n",
       "    </tr>\n",
       "    <tr>\n",
       "      <th>399</th>\n",
       "      <td>4375</td>\n",
       "      <td>Dropout</td>\n",
       "    </tr>\n",
       "    <tr>\n",
       "      <th>304</th>\n",
       "      <td>4398</td>\n",
       "      <td>Graduate</td>\n",
       "    </tr>\n",
       "    <tr>\n",
       "      <th>157</th>\n",
       "      <td>4404</td>\n",
       "      <td>Dropout</td>\n",
       "    </tr>\n",
       "    <tr>\n",
       "      <th>267</th>\n",
       "      <td>4406</td>\n",
       "      <td>Enrolled</td>\n",
       "    </tr>\n",
       "    <tr>\n",
       "      <th>26</th>\n",
       "      <td>4421</td>\n",
       "      <td>Dropout</td>\n",
       "    </tr>\n",
       "  </tbody>\n",
       "</table>\n",
       "<p>620 rows × 2 columns</p>\n",
       "</div>"
      ],
      "text/plain": [
       "       Id  Category\n",
       "332     1  Graduate\n",
       "50      2   Dropout\n",
       "224     9  Enrolled\n",
       "605    18  Enrolled\n",
       "57     22  Graduate\n",
       "..    ...       ...\n",
       "399  4375   Dropout\n",
       "304  4398  Graduate\n",
       "157  4404   Dropout\n",
       "267  4406  Enrolled\n",
       "26   4421   Dropout\n",
       "\n",
       "[620 rows x 2 columns]"
      ]
     },
     "execution_count": 51,
     "metadata": {},
     "output_type": "execute_result"
    }
   ],
   "source": [
    "target_df2['Category'].replace({ 2:'Graduate', 1 : 'Enrolled', 0 : 'Dropout'}, inplace = True)\n",
    "#print(target_df2.sort_values(by=['Id']))\n",
    "target_df2.to_csv('submission2.csv',index=False)  \n",
    "\n",
    "target_df3 = pd.read_csv('submission2.csv')\n",
    "target_df3.sort_values(by=['Id'])"
   ]
  },
  {
   "cell_type": "code",
   "execution_count": null,
   "id": "49ff5d6d",
   "metadata": {
    "papermill": {
     "duration": 0.018867,
     "end_time": "2022-11-03T16:19:17.513966",
     "exception": false,
     "start_time": "2022-11-03T16:19:17.495099",
     "status": "completed"
    },
    "tags": []
   },
   "outputs": [],
   "source": []
  }
 ],
 "metadata": {
  "kernelspec": {
   "display_name": "Python 3",
   "language": "python",
   "name": "python3"
  },
  "language_info": {
   "codemirror_mode": {
    "name": "ipython",
    "version": 3
   },
   "file_extension": ".py",
   "mimetype": "text/x-python",
   "name": "python",
   "nbconvert_exporter": "python",
   "pygments_lexer": "ipython3",
   "version": "3.7.12"
  },
  "papermill": {
   "default_parameters": {},
   "duration": 74.491615,
   "end_time": "2022-11-03T16:19:18.355006",
   "environment_variables": {},
   "exception": null,
   "input_path": "__notebook__.ipynb",
   "output_path": "__notebook__.ipynb",
   "parameters": {},
   "start_time": "2022-11-03T16:18:03.863391",
   "version": "2.3.4"
  }
 },
 "nbformat": 4,
 "nbformat_minor": 5
}
